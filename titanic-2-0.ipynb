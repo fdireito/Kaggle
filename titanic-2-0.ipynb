{
 "cells": [
  {
   "cell_type": "code",
   "execution_count": 1,
   "id": "7d7242f2",
   "metadata": {
    "_cell_guid": "b1076dfc-b9ad-4769-8c92-a6c4dae69d19",
    "_uuid": "8f2839f25d086af736a60e9eeb907d3b93b6e0e5",
    "execution": {
     "iopub.execute_input": "2022-04-13T15:05:00.645191Z",
     "iopub.status.busy": "2022-04-13T15:05:00.643529Z",
     "iopub.status.idle": "2022-04-13T15:05:02.063337Z",
     "shell.execute_reply": "2022-04-13T15:05:02.063937Z",
     "shell.execute_reply.started": "2022-04-13T14:56:56.238876Z"
    },
    "papermill": {
     "duration": 1.454202,
     "end_time": "2022-04-13T15:05:02.064208",
     "exception": false,
     "start_time": "2022-04-13T15:05:00.610006",
     "status": "completed"
    },
    "tags": []
   },
   "outputs": [
    {
     "name": "stdout",
     "output_type": "stream",
     "text": [
      "/kaggle/input/titanic/train.csv\n",
      "/kaggle/input/titanic/test.csv\n",
      "/kaggle/input/titanic/gender_submission.csv\n"
     ]
    }
   ],
   "source": [
    "## This Python 3 environment comes with many helpful analytics libraries installed\n",
    "# It is defined by the kaggle/python Docker image: https://github.com/kaggle/docker-python\n",
    "# For example, here's several helpful packages to load\n",
    "\n",
    "import numpy as np # linear algebra\n",
    "import pandas as pd # data processing, CSV file I/O (e.g. pd.read_csv)\n",
    "import matplotlib.pyplot as plt\n",
    "import seaborn as sns\n",
    "import sklearn.tree as tree\n",
    "from sklearn import preprocessing\n",
    "from sklearn.neighbors import KNeighborsClassifier\n",
    "from sklearn.model_selection import GridSearchCV\n",
    "from sklearn.linear_model import LogisticRegression\n",
    "from sklearn.tree import DecisionTreeClassifier\n",
    "from sklearn.metrics import plot_confusion_matrix\n",
    "from sklearn.svm import SVC\n",
    "\n",
    "# Input data files are available in the read-only \"../input/\" directory\n",
    "# For example, running this (by clicking run or pressing Shift+Enter) will list all files under the input directory\n",
    "\n",
    "import os\n",
    "for dirname, _, filenames in os.walk('/kaggle/input'):\n",
    "    for filename in filenames:\n",
    "        print(os.path.join(dirname, filename))\n",
    "\n",
    "# You can write up to 20GB to the current directory (/kaggle/working/) that gets preserved as output when you create a version using \"Save & Run All\" \n",
    "# You can also write temporary files to /kaggle/temp/, but they won't be saved outside of the current session"
   ]
  },
  {
   "cell_type": "code",
   "execution_count": 2,
   "id": "cda4f97d",
   "metadata": {
    "execution": {
     "iopub.execute_input": "2022-04-13T15:05:02.111870Z",
     "iopub.status.busy": "2022-04-13T15:05:02.111238Z",
     "iopub.status.idle": "2022-04-13T15:05:02.152296Z",
     "shell.execute_reply": "2022-04-13T15:05:02.152790Z",
     "shell.execute_reply.started": "2022-04-13T14:56:57.608205Z"
    },
    "papermill": {
     "duration": 0.067036,
     "end_time": "2022-04-13T15:05:02.152951",
     "exception": false,
     "start_time": "2022-04-13T15:05:02.085915",
     "status": "completed"
    },
    "tags": []
   },
   "outputs": [
    {
     "data": {
      "text/html": [
       "<div>\n",
       "<style scoped>\n",
       "    .dataframe tbody tr th:only-of-type {\n",
       "        vertical-align: middle;\n",
       "    }\n",
       "\n",
       "    .dataframe tbody tr th {\n",
       "        vertical-align: top;\n",
       "    }\n",
       "\n",
       "    .dataframe thead th {\n",
       "        text-align: right;\n",
       "    }\n",
       "</style>\n",
       "<table border=\"1\" class=\"dataframe\">\n",
       "  <thead>\n",
       "    <tr style=\"text-align: right;\">\n",
       "      <th></th>\n",
       "      <th>PassengerId</th>\n",
       "      <th>Survived</th>\n",
       "      <th>Pclass</th>\n",
       "      <th>Name</th>\n",
       "      <th>Sex</th>\n",
       "      <th>Age</th>\n",
       "      <th>SibSp</th>\n",
       "      <th>Parch</th>\n",
       "      <th>Ticket</th>\n",
       "      <th>Fare</th>\n",
       "      <th>Cabin</th>\n",
       "      <th>Embarked</th>\n",
       "    </tr>\n",
       "  </thead>\n",
       "  <tbody>\n",
       "    <tr>\n",
       "      <th>0</th>\n",
       "      <td>1</td>\n",
       "      <td>0</td>\n",
       "      <td>3</td>\n",
       "      <td>Braund, Mr. Owen Harris</td>\n",
       "      <td>male</td>\n",
       "      <td>22.0</td>\n",
       "      <td>1</td>\n",
       "      <td>0</td>\n",
       "      <td>A/5 21171</td>\n",
       "      <td>7.2500</td>\n",
       "      <td>NaN</td>\n",
       "      <td>S</td>\n",
       "    </tr>\n",
       "    <tr>\n",
       "      <th>1</th>\n",
       "      <td>2</td>\n",
       "      <td>1</td>\n",
       "      <td>1</td>\n",
       "      <td>Cumings, Mrs. John Bradley (Florence Briggs Th...</td>\n",
       "      <td>female</td>\n",
       "      <td>38.0</td>\n",
       "      <td>1</td>\n",
       "      <td>0</td>\n",
       "      <td>PC 17599</td>\n",
       "      <td>71.2833</td>\n",
       "      <td>C85</td>\n",
       "      <td>C</td>\n",
       "    </tr>\n",
       "    <tr>\n",
       "      <th>2</th>\n",
       "      <td>3</td>\n",
       "      <td>1</td>\n",
       "      <td>3</td>\n",
       "      <td>Heikkinen, Miss. Laina</td>\n",
       "      <td>female</td>\n",
       "      <td>26.0</td>\n",
       "      <td>0</td>\n",
       "      <td>0</td>\n",
       "      <td>STON/O2. 3101282</td>\n",
       "      <td>7.9250</td>\n",
       "      <td>NaN</td>\n",
       "      <td>S</td>\n",
       "    </tr>\n",
       "    <tr>\n",
       "      <th>3</th>\n",
       "      <td>4</td>\n",
       "      <td>1</td>\n",
       "      <td>1</td>\n",
       "      <td>Futrelle, Mrs. Jacques Heath (Lily May Peel)</td>\n",
       "      <td>female</td>\n",
       "      <td>35.0</td>\n",
       "      <td>1</td>\n",
       "      <td>0</td>\n",
       "      <td>113803</td>\n",
       "      <td>53.1000</td>\n",
       "      <td>C123</td>\n",
       "      <td>S</td>\n",
       "    </tr>\n",
       "    <tr>\n",
       "      <th>4</th>\n",
       "      <td>5</td>\n",
       "      <td>0</td>\n",
       "      <td>3</td>\n",
       "      <td>Allen, Mr. William Henry</td>\n",
       "      <td>male</td>\n",
       "      <td>35.0</td>\n",
       "      <td>0</td>\n",
       "      <td>0</td>\n",
       "      <td>373450</td>\n",
       "      <td>8.0500</td>\n",
       "      <td>NaN</td>\n",
       "      <td>S</td>\n",
       "    </tr>\n",
       "  </tbody>\n",
       "</table>\n",
       "</div>"
      ],
      "text/plain": [
       "   PassengerId  Survived  Pclass  \\\n",
       "0            1         0       3   \n",
       "1            2         1       1   \n",
       "2            3         1       3   \n",
       "3            4         1       1   \n",
       "4            5         0       3   \n",
       "\n",
       "                                                Name     Sex   Age  SibSp  \\\n",
       "0                            Braund, Mr. Owen Harris    male  22.0      1   \n",
       "1  Cumings, Mrs. John Bradley (Florence Briggs Th...  female  38.0      1   \n",
       "2                             Heikkinen, Miss. Laina  female  26.0      0   \n",
       "3       Futrelle, Mrs. Jacques Heath (Lily May Peel)  female  35.0      1   \n",
       "4                           Allen, Mr. William Henry    male  35.0      0   \n",
       "\n",
       "   Parch            Ticket     Fare Cabin Embarked  \n",
       "0      0         A/5 21171   7.2500   NaN        S  \n",
       "1      0          PC 17599  71.2833   C85        C  \n",
       "2      0  STON/O2. 3101282   7.9250   NaN        S  \n",
       "3      0            113803  53.1000  C123        S  \n",
       "4      0            373450   8.0500   NaN        S  "
      ]
     },
     "execution_count": 2,
     "metadata": {},
     "output_type": "execute_result"
    }
   ],
   "source": [
    "train_data = pd.read_csv('/kaggle/input/titanic/train.csv')  \n",
    "test_data = pd.read_csv('/kaggle/input/titanic/test.csv')\n",
    "train_data.head()"
   ]
  },
  {
   "cell_type": "markdown",
   "id": "1b81c3b5",
   "metadata": {
    "papermill": {
     "duration": 0.020817,
     "end_time": "2022-04-13T15:05:02.195039",
     "exception": false,
     "start_time": "2022-04-13T15:05:02.174222",
     "status": "completed"
    },
    "tags": []
   },
   "source": [
    "# Data Wrangling\n",
    "\n",
    "The last time, I completely deleted a couple of columns, and attempted to fill the rows in which the Age was missing. A different approach will be attempted this time, I'll include both SibSp and Parch columns, and the age too. For now, I will completely drop the rows in which Age is missing.\n",
    "\n",
    "Let's begin with building the Data Frame, but I'll join SibSp and Parch columns into one, named 'Family', which will indicate how many family members related to the passenger were on the ship, and I will concatenate it into the main Data Frame."
   ]
  },
  {
   "cell_type": "code",
   "execution_count": 3,
   "id": "730fe16f",
   "metadata": {
    "execution": {
     "iopub.execute_input": "2022-04-13T15:05:02.241016Z",
     "iopub.status.busy": "2022-04-13T15:05:02.240082Z",
     "iopub.status.idle": "2022-04-13T15:05:02.262142Z",
     "shell.execute_reply": "2022-04-13T15:05:02.261636Z",
     "shell.execute_reply.started": "2022-04-13T14:56:57.658182Z"
    },
    "papermill": {
     "duration": 0.046118,
     "end_time": "2022-04-13T15:05:02.262292",
     "exception": false,
     "start_time": "2022-04-13T15:05:02.216174",
     "status": "completed"
    },
    "tags": []
   },
   "outputs": [
    {
     "data": {
      "text/html": [
       "<div>\n",
       "<style scoped>\n",
       "    .dataframe tbody tr th:only-of-type {\n",
       "        vertical-align: middle;\n",
       "    }\n",
       "\n",
       "    .dataframe tbody tr th {\n",
       "        vertical-align: top;\n",
       "    }\n",
       "\n",
       "    .dataframe thead th {\n",
       "        text-align: right;\n",
       "    }\n",
       "</style>\n",
       "<table border=\"1\" class=\"dataframe\">\n",
       "  <thead>\n",
       "    <tr style=\"text-align: right;\">\n",
       "      <th></th>\n",
       "      <th>Survived</th>\n",
       "      <th>Pclass</th>\n",
       "      <th>Sex</th>\n",
       "      <th>Age</th>\n",
       "      <th>Family</th>\n",
       "    </tr>\n",
       "  </thead>\n",
       "  <tbody>\n",
       "    <tr>\n",
       "      <th>0</th>\n",
       "      <td>0</td>\n",
       "      <td>3</td>\n",
       "      <td>male</td>\n",
       "      <td>22.0</td>\n",
       "      <td>1</td>\n",
       "    </tr>\n",
       "    <tr>\n",
       "      <th>1</th>\n",
       "      <td>1</td>\n",
       "      <td>1</td>\n",
       "      <td>female</td>\n",
       "      <td>38.0</td>\n",
       "      <td>1</td>\n",
       "    </tr>\n",
       "    <tr>\n",
       "      <th>2</th>\n",
       "      <td>1</td>\n",
       "      <td>3</td>\n",
       "      <td>female</td>\n",
       "      <td>26.0</td>\n",
       "      <td>0</td>\n",
       "    </tr>\n",
       "    <tr>\n",
       "      <th>3</th>\n",
       "      <td>1</td>\n",
       "      <td>1</td>\n",
       "      <td>female</td>\n",
       "      <td>35.0</td>\n",
       "      <td>1</td>\n",
       "    </tr>\n",
       "    <tr>\n",
       "      <th>4</th>\n",
       "      <td>0</td>\n",
       "      <td>3</td>\n",
       "      <td>male</td>\n",
       "      <td>35.0</td>\n",
       "      <td>0</td>\n",
       "    </tr>\n",
       "  </tbody>\n",
       "</table>\n",
       "</div>"
      ],
      "text/plain": [
       "   Survived  Pclass     Sex   Age  Family\n",
       "0         0       3    male  22.0       1\n",
       "1         1       1  female  38.0       1\n",
       "2         1       3  female  26.0       0\n",
       "3         1       1  female  35.0       1\n",
       "4         0       3    male  35.0       0"
      ]
     },
     "execution_count": 3,
     "metadata": {},
     "output_type": "execute_result"
    }
   ],
   "source": [
    "Family = train_data['SibSp'] + train_data['Parch']\n",
    "df = train_data[['Survived', 'Pclass', 'Sex', 'Age']]\n",
    "fam = pd.Series(Family)\n",
    "fam = fam.rename('Family')\n",
    "df = pd.concat([df, fam], axis=1)\n",
    "df.head()\n"
   ]
  },
  {
   "cell_type": "markdown",
   "id": "83b4b533",
   "metadata": {
    "papermill": {
     "duration": 0.02127,
     "end_time": "2022-04-13T15:05:02.305126",
     "exception": false,
     "start_time": "2022-04-13T15:05:02.283856",
     "status": "completed"
    },
    "tags": []
   },
   "source": [
    "Now, let's check for missing values."
   ]
  },
  {
   "cell_type": "code",
   "execution_count": 4,
   "id": "002ce78c",
   "metadata": {
    "execution": {
     "iopub.execute_input": "2022-04-13T15:05:02.357698Z",
     "iopub.status.busy": "2022-04-13T15:05:02.356911Z",
     "iopub.status.idle": "2022-04-13T15:05:02.359976Z",
     "shell.execute_reply": "2022-04-13T15:05:02.360448Z",
     "shell.execute_reply.started": "2022-04-13T14:56:57.682826Z"
    },
    "papermill": {
     "duration": 0.033569,
     "end_time": "2022-04-13T15:05:02.360615",
     "exception": false,
     "start_time": "2022-04-13T15:05:02.327046",
     "status": "completed"
    },
    "tags": []
   },
   "outputs": [
    {
     "data": {
      "text/plain": [
       "Survived      0\n",
       "Pclass        0\n",
       "Sex           0\n",
       "Age         177\n",
       "Family        0\n",
       "dtype: int64"
      ]
     },
     "execution_count": 4,
     "metadata": {},
     "output_type": "execute_result"
    }
   ],
   "source": [
    "pd.isna(df).sum()"
   ]
  },
  {
   "cell_type": "markdown",
   "id": "5885889c",
   "metadata": {
    "papermill": {
     "duration": 0.02224,
     "end_time": "2022-04-13T15:05:02.404818",
     "exception": false,
     "start_time": "2022-04-13T15:05:02.382578",
     "status": "completed"
    },
    "tags": []
   },
   "source": [
    "177 rows are missing from the Age column. For this attempt, let's drop all the rows that contain missing data."
   ]
  },
  {
   "cell_type": "code",
   "execution_count": 5,
   "id": "41850974",
   "metadata": {
    "execution": {
     "iopub.execute_input": "2022-04-13T15:05:02.459814Z",
     "iopub.status.busy": "2022-04-13T15:05:02.453409Z",
     "iopub.status.idle": "2022-04-13T15:05:02.461871Z",
     "shell.execute_reply": "2022-04-13T15:05:02.462398Z",
     "shell.execute_reply.started": "2022-04-13T14:56:57.696902Z"
    },
    "papermill": {
     "duration": 0.035843,
     "end_time": "2022-04-13T15:05:02.462576",
     "exception": false,
     "start_time": "2022-04-13T15:05:02.426733",
     "status": "completed"
    },
    "tags": []
   },
   "outputs": [
    {
     "data": {
      "text/plain": [
       "Survived    0\n",
       "Pclass      0\n",
       "Sex         0\n",
       "Age         0\n",
       "Family      0\n",
       "dtype: int64"
      ]
     },
     "execution_count": 5,
     "metadata": {},
     "output_type": "execute_result"
    }
   ],
   "source": [
    "df.fillna(df['Age'].mean(), inplace=True)\n",
    "pd.isna(df).sum()"
   ]
  },
  {
   "cell_type": "markdown",
   "id": "79ca138c",
   "metadata": {
    "papermill": {
     "duration": 0.022579,
     "end_time": "2022-04-13T15:05:02.508217",
     "exception": false,
     "start_time": "2022-04-13T15:05:02.485638",
     "status": "completed"
    },
    "tags": []
   },
   "source": [
    "The Sex column is still categorical, we'll change it to a binary column, since the only options are 'male' or 'female'."
   ]
  },
  {
   "cell_type": "code",
   "execution_count": 6,
   "id": "c737d86e",
   "metadata": {
    "execution": {
     "iopub.execute_input": "2022-04-13T15:05:02.566765Z",
     "iopub.status.busy": "2022-04-13T15:05:02.565965Z",
     "iopub.status.idle": "2022-04-13T15:05:02.568691Z",
     "shell.execute_reply": "2022-04-13T15:05:02.569137Z",
     "shell.execute_reply.started": "2022-04-13T14:56:57.708551Z"
    },
    "papermill": {
     "duration": 0.037943,
     "end_time": "2022-04-13T15:05:02.569317",
     "exception": false,
     "start_time": "2022-04-13T15:05:02.531374",
     "status": "completed"
    },
    "tags": []
   },
   "outputs": [
    {
     "data": {
      "text/html": [
       "<div>\n",
       "<style scoped>\n",
       "    .dataframe tbody tr th:only-of-type {\n",
       "        vertical-align: middle;\n",
       "    }\n",
       "\n",
       "    .dataframe tbody tr th {\n",
       "        vertical-align: top;\n",
       "    }\n",
       "\n",
       "    .dataframe thead th {\n",
       "        text-align: right;\n",
       "    }\n",
       "</style>\n",
       "<table border=\"1\" class=\"dataframe\">\n",
       "  <thead>\n",
       "    <tr style=\"text-align: right;\">\n",
       "      <th></th>\n",
       "      <th>Survived</th>\n",
       "      <th>Pclass</th>\n",
       "      <th>Sex</th>\n",
       "      <th>Age</th>\n",
       "      <th>Family</th>\n",
       "    </tr>\n",
       "  </thead>\n",
       "  <tbody>\n",
       "    <tr>\n",
       "      <th>0</th>\n",
       "      <td>0</td>\n",
       "      <td>3</td>\n",
       "      <td>0</td>\n",
       "      <td>22.0</td>\n",
       "      <td>1</td>\n",
       "    </tr>\n",
       "    <tr>\n",
       "      <th>1</th>\n",
       "      <td>1</td>\n",
       "      <td>1</td>\n",
       "      <td>1</td>\n",
       "      <td>38.0</td>\n",
       "      <td>1</td>\n",
       "    </tr>\n",
       "    <tr>\n",
       "      <th>2</th>\n",
       "      <td>1</td>\n",
       "      <td>3</td>\n",
       "      <td>1</td>\n",
       "      <td>26.0</td>\n",
       "      <td>0</td>\n",
       "    </tr>\n",
       "    <tr>\n",
       "      <th>3</th>\n",
       "      <td>1</td>\n",
       "      <td>1</td>\n",
       "      <td>1</td>\n",
       "      <td>35.0</td>\n",
       "      <td>1</td>\n",
       "    </tr>\n",
       "    <tr>\n",
       "      <th>4</th>\n",
       "      <td>0</td>\n",
       "      <td>3</td>\n",
       "      <td>0</td>\n",
       "      <td>35.0</td>\n",
       "      <td>0</td>\n",
       "    </tr>\n",
       "  </tbody>\n",
       "</table>\n",
       "</div>"
      ],
      "text/plain": [
       "   Survived  Pclass  Sex   Age  Family\n",
       "0         0       3    0  22.0       1\n",
       "1         1       1    1  38.0       1\n",
       "2         1       3    1  26.0       0\n",
       "3         1       1    1  35.0       1\n",
       "4         0       3    0  35.0       0"
      ]
     },
     "execution_count": 6,
     "metadata": {},
     "output_type": "execute_result"
    }
   ],
   "source": [
    "df['Sex'].replace(to_replace=['male','female'], value=[0,1],inplace=True)\n",
    "df.head()"
   ]
  },
  {
   "cell_type": "markdown",
   "id": "2100b94b",
   "metadata": {
    "papermill": {
     "duration": 0.02347,
     "end_time": "2022-04-13T15:05:02.615541",
     "exception": false,
     "start_time": "2022-04-13T15:05:02.592071",
     "status": "completed"
    },
    "tags": []
   },
   "source": [
    "Running now the correlation matrix, graphically producing a heatmap:"
   ]
  },
  {
   "cell_type": "code",
   "execution_count": 7,
   "id": "0154edd4",
   "metadata": {
    "execution": {
     "iopub.execute_input": "2022-04-13T15:05:02.668334Z",
     "iopub.status.busy": "2022-04-13T15:05:02.667673Z",
     "iopub.status.idle": "2022-04-13T15:05:03.020284Z",
     "shell.execute_reply": "2022-04-13T15:05:03.019565Z",
     "shell.execute_reply.started": "2022-04-13T14:56:57.724982Z"
    },
    "papermill": {
     "duration": 0.381635,
     "end_time": "2022-04-13T15:05:03.020428",
     "exception": false,
     "start_time": "2022-04-13T15:05:02.638793",
     "status": "completed"
    },
    "tags": []
   },
   "outputs": [
    {
     "data": {
      "text/plain": [
       "(array([0.5, 1.5, 2.5, 3.5, 4.5]),\n",
       " [Text(0.5, 0, 'Survived'),\n",
       "  Text(1.5, 0, 'Pclass'),\n",
       "  Text(2.5, 0, 'Sex'),\n",
       "  Text(3.5, 0, 'Age'),\n",
       "  Text(4.5, 0, 'Family')])"
      ]
     },
     "execution_count": 7,
     "metadata": {},
     "output_type": "execute_result"
    },
    {
     "data": {
      "image/png": "[encoded data removed]",
      "text/plain": [
       "<Figure size 864x360 with 2 Axes>"
      ]
     },
     "metadata": {
      "needs_background": "light"
     },
     "output_type": "display_data"
    }
   ],
   "source": [
    "#correlation matrix and the heatmap\n",
    "plt.subplots(figsize=(12,5))\n",
    "correlation=abs(df.corr())\n",
    "sns.heatmap(correlation,annot=True,cmap='RdPu')\n",
    "plt.title('Correlation between the variables')\n",
    "plt.xticks(rotation=45)"
   ]
  },
  {
   "cell_type": "markdown",
   "id": "72683ef6",
   "metadata": {
    "papermill": {
     "duration": 0.024259,
     "end_time": "2022-04-13T15:05:03.069101",
     "exception": false,
     "start_time": "2022-04-13T15:05:03.044842",
     "status": "completed"
    },
    "tags": []
   },
   "source": [
    "It is obvious the strongest correlations are Sex and Pclass. Age and Family barely contribute anything to the correlation matrix, but let's keep them for now.\n",
    "\n",
    "It's also noticeable that some random attributes are randomly slightly correlated, like Age and Pclass, or Age and Family. While it would be wise to try and combine them, like I did with SibSp and Parch, I can't find an angle to simply do so.\n",
    "\n",
    "Let's split the Data Frame into attributes and the target variable, while normalizing the attributes values."
   ]
  },
  {
   "cell_type": "code",
   "execution_count": 8,
   "id": "c2975ea2",
   "metadata": {
    "execution": {
     "iopub.execute_input": "2022-04-13T15:05:03.124613Z",
     "iopub.status.busy": "2022-04-13T15:05:03.123940Z",
     "iopub.status.idle": "2022-04-13T15:05:03.126394Z",
     "shell.execute_reply": "2022-04-13T15:05:03.126837Z",
     "shell.execute_reply.started": "2022-04-13T14:56:58.099957Z"
    },
    "papermill": {
     "duration": 0.033324,
     "end_time": "2022-04-13T15:05:03.127000",
     "exception": false,
     "start_time": "2022-04-13T15:05:03.093676",
     "status": "completed"
    },
    "tags": []
   },
   "outputs": [
    {
     "data": {
      "text/plain": [
       "array([0, 1, 1, 1, 0])"
      ]
     },
     "execution_count": 8,
     "metadata": {},
     "output_type": "execute_result"
    }
   ],
   "source": [
    "y_train = df['Survived'].values\n",
    "y_train[0:5]"
   ]
  },
  {
   "cell_type": "code",
   "execution_count": 9,
   "id": "f7230210",
   "metadata": {
    "execution": {
     "iopub.execute_input": "2022-04-13T15:05:03.180035Z",
     "iopub.status.busy": "2022-04-13T15:05:03.179398Z",
     "iopub.status.idle": "2022-04-13T15:05:03.193468Z",
     "shell.execute_reply": "2022-04-13T15:05:03.192814Z",
     "shell.execute_reply.started": "2022-04-13T14:56:58.1082Z"
    },
    "papermill": {
     "duration": 0.041981,
     "end_time": "2022-04-13T15:05:03.193622",
     "exception": false,
     "start_time": "2022-04-13T15:05:03.151641",
     "status": "completed"
    },
    "tags": []
   },
   "outputs": [
    {
     "data": {
      "text/plain": [
       "array([[ 0.82737724, -0.73769513, -0.5924806 ,  0.05915988],\n",
       "       [-1.56610693,  1.35557354,  0.63878901,  0.05915988],\n",
       "       [ 0.82737724,  1.35557354, -0.2846632 , -0.56097483],\n",
       "       [-1.56610693,  1.35557354,  0.40792596,  0.05915988],\n",
       "       [ 0.82737724, -0.73769513,  0.40792596, -0.56097483]])"
      ]
     },
     "execution_count": 9,
     "metadata": {},
     "output_type": "execute_result"
    }
   ],
   "source": [
    "X_train = df.drop(['Survived'], axis=1)\n",
    "X_train =  preprocessing.StandardScaler().fit(X_train).transform(X_train)\n",
    "X_train[0:5]"
   ]
  },
  {
   "cell_type": "markdown",
   "id": "03f2fcec",
   "metadata": {
    "papermill": {
     "duration": 0.025027,
     "end_time": "2022-04-13T15:05:03.243737",
     "exception": false,
     "start_time": "2022-04-13T15:05:03.218710",
     "status": "completed"
    },
    "tags": []
   },
   "source": [
    "# Machine Learning\n",
    "Now that we have our data filtered and cleaned, it's time to apply some machine learning modeling, and try to get the best possible accuracy. I'm no expert in Machine Learning, so I'll stick to four different Classification algorithms, k-Nearest Neighbor, Decision Tree, SVM and Logistic Regression. For each method, a Grid Search method will be applied, to find the best parameters for each of the algorithms. The accuracy will be measured by the Grid Search method."
   ]
  },
  {
   "cell_type": "markdown",
   "id": "c870a66d",
   "metadata": {
    "papermill": {
     "duration": 0.025176,
     "end_time": "2022-04-13T15:05:03.295328",
     "exception": false,
     "start_time": "2022-04-13T15:05:03.270152",
     "status": "completed"
    },
    "tags": []
   },
   "source": [
    "## k-Nearest Neighbor\n",
    "Let's define a range of k-values from 1 to 30, and let the Grid Search methodology find the best one."
   ]
  },
  {
   "cell_type": "code",
   "execution_count": 10,
   "id": "3f00b07f",
   "metadata": {
    "execution": {
     "iopub.execute_input": "2022-04-13T15:05:03.352787Z",
     "iopub.status.busy": "2022-04-13T15:05:03.352016Z",
     "iopub.status.idle": "2022-04-13T15:05:10.473731Z",
     "shell.execute_reply": "2022-04-13T15:05:10.475295Z",
     "shell.execute_reply.started": "2022-04-13T14:56:58.127872Z"
    },
    "papermill": {
     "duration": 7.155334,
     "end_time": "2022-04-13T15:05:10.475739",
     "exception": false,
     "start_time": "2022-04-13T15:05:03.320405",
     "status": "completed"
    },
    "tags": []
   },
   "outputs": [
    {
     "name": "stdout",
     "output_type": "stream",
     "text": [
      "tuned hpyerparameters :(best parameters)  {'algorithm': 'auto', 'n_neighbors': 4}\n",
      "accuracy : 0.8295255930087391\n"
     ]
    }
   ],
   "source": [
    "k_range=list(range(1,30))\n",
    "param_knn=dict(n_neighbors = k_range, algorithm=['auto', 'ball_tree', 'kd_tree', 'brute'])\n",
    "knn_cv=GridSearchCV(KNeighborsClassifier(), param_knn, cv=10, scoring='accuracy')\n",
    "knn_cv.fit(X_train, y_train)\n",
    "print(\"tuned hpyerparameters :(best parameters) \",knn_cv.best_params_)\n",
    "print(\"accuracy :\",knn_cv.best_score_)"
   ]
  },
  {
   "cell_type": "markdown",
   "id": "5067b2ba",
   "metadata": {
    "papermill": {
     "duration": 0.045601,
     "end_time": "2022-04-13T15:05:10.575731",
     "exception": false,
     "start_time": "2022-04-13T15:05:10.530130",
     "status": "completed"
    },
    "tags": []
   },
   "source": [
    "With the results from the gridsearch, we can conclude the best k-value is 4, with a Brute-force search algorithm. Let's do a new fit with this parameter, knowing the maximum accuracy is 83.5%."
   ]
  },
  {
   "cell_type": "code",
   "execution_count": 11,
   "id": "6da91d93",
   "metadata": {
    "execution": {
     "iopub.execute_input": "2022-04-13T15:05:10.631998Z",
     "iopub.status.busy": "2022-04-13T15:05:10.630554Z",
     "iopub.status.idle": "2022-04-13T15:05:10.637197Z",
     "shell.execute_reply": "2022-04-13T15:05:10.637660Z",
     "shell.execute_reply.started": "2022-04-13T14:57:06.609175Z"
    },
    "papermill": {
     "duration": 0.03709,
     "end_time": "2022-04-13T15:05:10.637827",
     "exception": false,
     "start_time": "2022-04-13T15:05:10.600737",
     "status": "completed"
    },
    "tags": []
   },
   "outputs": [
    {
     "data": {
      "text/plain": [
       "KNeighborsClassifier(algorithm='brute')"
      ]
     },
     "execution_count": 11,
     "metadata": {},
     "output_type": "execute_result"
    }
   ],
   "source": [
    "knn=KNeighborsClassifier(n_neighbors=5, algorithm='brute')\n",
    "knn.fit(X_train, y_train)"
   ]
  },
  {
   "cell_type": "markdown",
   "id": "caa660bd",
   "metadata": {
    "papermill": {
     "duration": 0.025656,
     "end_time": "2022-04-13T15:05:10.688742",
     "exception": false,
     "start_time": "2022-04-13T15:05:10.663086",
     "status": "completed"
    },
    "tags": []
   },
   "source": [
    "## Decision Tree\n",
    "As the Decision Tree has quite an amount of adjustable parameters, we'll stick to 3 of these: criterion, splitter and max_depth."
   ]
  },
  {
   "cell_type": "code",
   "execution_count": 12,
   "id": "4dda0302",
   "metadata": {
    "execution": {
     "iopub.execute_input": "2022-04-13T15:05:10.746049Z",
     "iopub.status.busy": "2022-04-13T15:05:10.745170Z",
     "iopub.status.idle": "2022-04-13T15:05:11.948536Z",
     "shell.execute_reply": "2022-04-13T15:05:11.948987Z",
     "shell.execute_reply.started": "2022-04-13T14:57:06.622758Z"
    },
    "papermill": {
     "duration": 1.235254,
     "end_time": "2022-04-13T15:05:11.949146",
     "exception": false,
     "start_time": "2022-04-13T15:05:10.713892",
     "status": "completed"
    },
    "tags": []
   },
   "outputs": [
    {
     "name": "stdout",
     "output_type": "stream",
     "text": [
      "tuned hpyerparameters :(best parameters)  {'criterion': 'gini', 'max_depth': 5, 'splitter': 'best'}\n",
      "accuracy : 0.8260299625468164\n"
     ]
    }
   ],
   "source": [
    "param_tree={'criterion':['gini', 'entropy'], 'max_depth':[4,5,6,7,8,9,10,11,12,15,20,30,40,50,70,90,120,150], 'splitter':['best', 'random']}\n",
    "tree_cv=GridSearchCV(DecisionTreeClassifier(), param_tree, cv=10, scoring='accuracy')\n",
    "tree_cv.fit(X_train, y_train)\n",
    "print(\"tuned hpyerparameters :(best parameters) \",tree_cv.best_params_)\n",
    "print(\"accuracy :\",tree_cv.best_score_)"
   ]
  },
  {
   "cell_type": "markdown",
   "id": "fcb072a0",
   "metadata": {
    "papermill": {
     "duration": 0.025846,
     "end_time": "2022-04-13T15:05:12.000793",
     "exception": false,
     "start_time": "2022-04-13T15:05:11.974947",
     "status": "completed"
    },
    "tags": []
   },
   "source": [
    "The results of the Grid Search retrieve a criterion of 'gini', a max_depth of 8, and a 'random' splitter. We already know the best accuracy of this model should be 81.8%, lower than the KNN model."
   ]
  },
  {
   "cell_type": "code",
   "execution_count": 13,
   "id": "e021b74f",
   "metadata": {
    "execution": {
     "iopub.execute_input": "2022-04-13T15:05:12.055966Z",
     "iopub.status.busy": "2022-04-13T15:05:12.055369Z",
     "iopub.status.idle": "2022-04-13T15:05:12.061740Z",
     "shell.execute_reply": "2022-04-13T15:05:12.061237Z",
     "shell.execute_reply.started": "2022-04-13T14:57:07.953535Z"
    },
    "papermill": {
     "duration": 0.035548,
     "end_time": "2022-04-13T15:05:12.061881",
     "exception": false,
     "start_time": "2022-04-13T15:05:12.026333",
     "status": "completed"
    },
    "tags": []
   },
   "outputs": [
    {
     "data": {
      "text/plain": [
       "DecisionTreeClassifier(max_depth=8, splitter='random')"
      ]
     },
     "execution_count": 13,
     "metadata": {},
     "output_type": "execute_result"
    }
   ],
   "source": [
    "tree=DecisionTreeClassifier(criterion='gini', max_depth=8, splitter='random')\n",
    "tree.fit(X_train, y_train)"
   ]
  },
  {
   "cell_type": "markdown",
   "id": "96f76a30",
   "metadata": {
    "papermill": {
     "duration": 0.026384,
     "end_time": "2022-04-13T15:05:12.114104",
     "exception": false,
     "start_time": "2022-04-13T15:05:12.087720",
     "status": "completed"
    },
    "tags": []
   },
   "source": [
    "## SVM\n",
    "SVM models also have a quite lenghty list of parameters. I'll stick to calculating the C parameter, the kernel and the gamma values.\n",
    "\n",
    "PS: calculating the 'kernel' parameter takes a lot of computational power, due to time constraints I will leave it as 'rbf'."
   ]
  },
  {
   "cell_type": "code",
   "execution_count": 14,
   "id": "9cb66aff",
   "metadata": {
    "execution": {
     "iopub.execute_input": "2022-04-13T15:05:12.169898Z",
     "iopub.status.busy": "2022-04-13T15:05:12.169239Z",
     "iopub.status.idle": "2022-04-13T15:05:29.140660Z",
     "shell.execute_reply": "2022-04-13T15:05:29.139995Z",
     "shell.execute_reply.started": "2022-04-13T14:57:07.964655Z"
    },
    "papermill": {
     "duration": 16.999874,
     "end_time": "2022-04-13T15:05:29.140799",
     "exception": false,
     "start_time": "2022-04-13T15:05:12.140925",
     "status": "completed"
    },
    "tags": []
   },
   "outputs": [
    {
     "name": "stdout",
     "output_type": "stream",
     "text": [
      "tuned hpyerparameters :(best parameters)  {'C': 1, 'gamma': 1, 'kernel': 'rbf'}\n",
      "accuracy : 0.8316354556803995\n"
     ]
    }
   ],
   "source": [
    "param_svm={'C': [0.1, 1, 10, 100, 1000],\n",
    "              'gamma': [1, 0.1, 0.01, 0.001, 0.0001],\n",
    "              'kernel': ['rbf']}\n",
    "svm_cv=GridSearchCV(SVC(), param_svm, cv=10, scoring='accuracy')\n",
    "svm_cv.fit(X_train, y_train)\n",
    "print(\"tuned hpyerparameters :(best parameters) \",svm_cv.best_params_)\n",
    "print(\"accuracy :\",svm_cv.best_score_)"
   ]
  },
  {
   "cell_type": "markdown",
   "id": "a8a928db",
   "metadata": {
    "papermill": {
     "duration": 0.026237,
     "end_time": "2022-04-13T15:05:29.193763",
     "exception": false,
     "start_time": "2022-04-13T15:05:29.167526",
     "status": "completed"
    },
    "tags": []
   },
   "source": [
    "The results provide an optimal C of 10 and a gamma of 0.1.\n",
    "Thus, the accuracy is of 0.82, so KNN's accuracy is still higher."
   ]
  },
  {
   "cell_type": "code",
   "execution_count": 15,
   "id": "88e21a0c",
   "metadata": {
    "execution": {
     "iopub.execute_input": "2022-04-13T15:05:29.251144Z",
     "iopub.status.busy": "2022-04-13T15:05:29.250163Z",
     "iopub.status.idle": "2022-04-13T15:05:29.287185Z",
     "shell.execute_reply": "2022-04-13T15:05:29.287625Z",
     "shell.execute_reply.started": "2022-04-13T14:57:24.774469Z"
    },
    "papermill": {
     "duration": 0.066788,
     "end_time": "2022-04-13T15:05:29.287798",
     "exception": false,
     "start_time": "2022-04-13T15:05:29.221010",
     "status": "completed"
    },
    "tags": []
   },
   "outputs": [
    {
     "data": {
      "text/plain": [
       "SVC(C=10, gamma=0.1)"
      ]
     },
     "execution_count": 15,
     "metadata": {},
     "output_type": "execute_result"
    }
   ],
   "source": [
    "svm=SVC(C=10, gamma=0.1, kernel='rbf')\n",
    "svm.fit(X_train, y_train)"
   ]
  },
  {
   "cell_type": "markdown",
   "id": "0b7aa0d8",
   "metadata": {
    "papermill": {
     "duration": 0.027848,
     "end_time": "2022-04-13T15:05:29.346050",
     "exception": false,
     "start_time": "2022-04-13T15:05:29.318202",
     "status": "completed"
    },
    "tags": []
   },
   "source": [
    "## Logistic Regression\n",
    "Finally, the last algorithm. Again, a lot of changeable parameters, I'll stick to optimizing C, and the penalty, either 'l1' or 'l2', as 'elastic' or 'none' bring up too many complications. In order to accept either kind penalty, the solver will be set to 'liblinear'."
   ]
  },
  {
   "cell_type": "code",
   "execution_count": 16,
   "id": "e1dd942c",
   "metadata": {
    "execution": {
     "iopub.execute_input": "2022-04-13T15:05:29.401979Z",
     "iopub.status.busy": "2022-04-13T15:05:29.401082Z",
     "iopub.status.idle": "2022-04-13T15:05:29.593430Z",
     "shell.execute_reply": "2022-04-13T15:05:29.594094Z",
     "shell.execute_reply.started": "2022-04-13T14:57:24.812264Z"
    },
    "papermill": {
     "duration": 0.222131,
     "end_time": "2022-04-13T15:05:29.594350",
     "exception": false,
     "start_time": "2022-04-13T15:05:29.372219",
     "status": "completed"
    },
    "tags": []
   },
   "outputs": [
    {
     "name": "stdout",
     "output_type": "stream",
     "text": [
      "tuned hpyerparameters :(best parameters)  {'C': 0.1, 'penalty': 'l2', 'solver': 'liblinear'}\n",
      "accuracy : 0.7957178526841449\n"
     ]
    }
   ],
   "source": [
    "param_logreg={'C': [0.1, 1, 10, 100, 1000],\n",
    "              'penalty': ['l1', 'l2'],\n",
    "              'solver': ['liblinear']}\n",
    "logreg_cv=GridSearchCV(LogisticRegression(), param_logreg, cv=10, scoring='accuracy')\n",
    "logreg_cv.fit(X_train, y_train)\n",
    "print(\"tuned hpyerparameters :(best parameters) \",logreg_cv.best_params_)\n",
    "print(\"accuracy :\",logreg_cv.best_score_)"
   ]
  },
  {
   "cell_type": "markdown",
   "id": "21449978",
   "metadata": {
    "papermill": {
     "duration": 0.026628,
     "end_time": "2022-04-13T15:05:29.648174",
     "exception": false,
     "start_time": "2022-04-13T15:05:29.621546",
     "status": "completed"
    },
    "tags": []
   },
   "source": [
    "Our worst result so far, perhaps due to the inflexibility of the hyper parameters, an accuracy of 79.4%. The better parameters were a C value of 1, and an 'l1' penalty."
   ]
  },
  {
   "cell_type": "code",
   "execution_count": 17,
   "id": "d3e8c3df",
   "metadata": {
    "execution": {
     "iopub.execute_input": "2022-04-13T15:05:29.707413Z",
     "iopub.status.busy": "2022-04-13T15:05:29.706529Z",
     "iopub.status.idle": "2022-04-13T15:05:29.711882Z",
     "shell.execute_reply": "2022-04-13T15:05:29.712396Z",
     "shell.execute_reply.started": "2022-04-13T14:57:25.033275Z"
    },
    "papermill": {
     "duration": 0.03751,
     "end_time": "2022-04-13T15:05:29.712555",
     "exception": false,
     "start_time": "2022-04-13T15:05:29.675045",
     "status": "completed"
    },
    "tags": []
   },
   "outputs": [
    {
     "data": {
      "text/plain": [
       "LogisticRegression(C=1, penalty='l1', solver='liblinear')"
      ]
     },
     "execution_count": 17,
     "metadata": {},
     "output_type": "execute_result"
    }
   ],
   "source": [
    "logreg=LogisticRegression(C=1, penalty='l1', solver='liblinear')\n",
    "logreg.fit(X_train, y_train)"
   ]
  },
  {
   "cell_type": "markdown",
   "id": "da56b8ee",
   "metadata": {
    "papermill": {
     "duration": 0.026745,
     "end_time": "2022-04-13T15:05:29.766200",
     "exception": false,
     "start_time": "2022-04-13T15:05:29.739455",
     "status": "completed"
    },
    "tags": []
   },
   "source": [
    "# Conclusion\n",
    "kNN model was the best, not for a huge gap, but still the best. Thus, let's predict the survivability with the obtained model, and upload the results to Kaggle. Let's do to the Train Data what we did to the Test data, first."
   ]
  },
  {
   "cell_type": "code",
   "execution_count": 18,
   "id": "410a7fe4",
   "metadata": {
    "execution": {
     "iopub.execute_input": "2022-04-13T15:05:29.823368Z",
     "iopub.status.busy": "2022-04-13T15:05:29.822477Z",
     "iopub.status.idle": "2022-04-13T15:05:29.886477Z",
     "shell.execute_reply": "2022-04-13T15:05:29.887347Z",
     "shell.execute_reply.started": "2022-04-13T14:57:25.043767Z"
    },
    "papermill": {
     "duration": 0.094522,
     "end_time": "2022-04-13T15:05:29.887612",
     "exception": false,
     "start_time": "2022-04-13T15:05:29.793090",
     "status": "completed"
    },
    "tags": []
   },
   "outputs": [],
   "source": [
    "#Creating the Family column\n",
    "Family = test_data['SibSp'] + test_data['Parch']\n",
    "\n",
    "#Creating the main Data Frame\n",
    "df = test_data[['Pclass', 'Sex', 'Age']]\n",
    "\n",
    "#Concatenating the family column to the main data frame\n",
    "fam = pd.Series(Family)\n",
    "fam = fam.rename('Family')\n",
    "df = pd.concat([df, fam], axis=1)\n",
    "\n",
    "#Changing the Sex column from categorical to binary\n",
    "df['Sex'].replace(to_replace=['male','female'], value=[0,1], inplace=True)\n",
    "\n",
    "#Dropping the rows in which Age is missing\n",
    "df.fillna(df['Age'].mean(), inplace=True)\n",
    "\n",
    "#Normalizing the attributes\n",
    "X_test = df\n",
    "X_test =  preprocessing.StandardScaler().fit(X_test).transform(X_test)\n",
    "\n",
    "#Predicting with the model\n",
    "yhat=knn.predict(X_test)\n",
    "\n",
    "#Treating the yhat column, to concatenate with the PassengerId column\n",
    "yhat=pd.Series(data=yhat)\n",
    "yhat=yhat.rename('Survived')\n",
    "result=pd.concat([test_data['PassengerId'], yhat], axis=1)\n",
    "result.to_csv('/kaggle/working/result.csv', index=False)"
   ]
  }
 ],
 "metadata": {
  "kernelspec": {
   "display_name": "Python 3",
   "language": "python",
   "name": "python3"
  },
  "language_info": {
   "codemirror_mode": {
    "name": "ipython",
    "version": 3
   },
   "file_extension": ".py",
   "mimetype": "text/x-python",
   "name": "python",
   "nbconvert_exporter": "python",
   "pygments_lexer": "ipython3",
   "version": "3.7.12"
  },
  "papermill": {
   "default_parameters": {},
   "duration": 38.590588,
   "end_time": "2022-04-13T15:05:30.652393",
   "environment_variables": {},
   "exception": null,
   "input_path": "__notebook__.ipynb",
   "output_path": "__notebook__.ipynb",
   "parameters": {},
   "start_time": "2022-04-13T15:04:52.061805",
   "version": "2.3.3"
  }
 },
 "nbformat": 4,
 "nbformat_minor": 5
}
