{
 "cells": [
  {
   "cell_type": "code",
   "execution_count": 1,
   "id": "b99234c5",
   "metadata": {
    "_cell_guid": "b1076dfc-b9ad-4769-8c92-a6c4dae69d19",
    "_uuid": "8f2839f25d086af736a60e9eeb907d3b93b6e0e5",
    "execution": {
     "iopub.execute_input": "2022-04-13T15:07:22.224560Z",
     "iopub.status.busy": "2022-04-13T15:07:22.223813Z",
     "iopub.status.idle": "2022-04-13T15:07:23.828985Z",
     "shell.execute_reply": "2022-04-13T15:07:23.827988Z"
    },
    "papermill": {
     "duration": 1.652596,
     "end_time": "2022-04-13T15:07:23.832000",
     "exception": false,
     "start_time": "2022-04-13T15:07:22.179404",
     "status": "completed"
    },
    "tags": []
   },
   "outputs": [
    {
     "name": "stdout",
     "output_type": "stream",
     "text": [
      "/kaggle/input/titanic/train.csv\n",
      "/kaggle/input/titanic/test.csv\n",
      "/kaggle/input/titanic/gender_submission.csv\n"
     ]
    }
   ],
   "source": [
    "## This Python 3 environment comes with many helpful analytics libraries installed\n",
    "# It is defined by the kaggle/python Docker image: https://github.com/kaggle/docker-python\n",
    "# For example, here's several helpful packages to load\n",
    "\n",
    "import numpy as np # linear algebra\n",
    "import pandas as pd # data processing, CSV file I/O (e.g. pd.read_csv)\n",
    "import matplotlib.pyplot as plt\n",
    "import seaborn as sns\n",
    "import sklearn.tree as tree\n",
    "from sklearn import preprocessing\n",
    "from sklearn.neighbors import KNeighborsClassifier\n",
    "from sklearn.model_selection import GridSearchCV\n",
    "from sklearn.linear_model import LogisticRegression\n",
    "from sklearn.tree import DecisionTreeClassifier\n",
    "from sklearn.metrics import plot_confusion_matrix\n",
    "from sklearn.svm import SVC\n",
    "\n",
    "# Input data files are available in the read-only \"../input/\" directory\n",
    "# For example, running this (by clicking run or pressing Shift+Enter) will list all files under the input directory\n",
    "\n",
    "import os\n",
    "for dirname, _, filenames in os.walk('/kaggle/input'):\n",
    "    for filename in filenames:\n",
    "        print(os.path.join(dirname, filename))\n",
    "\n",
    "# You can write up to 20GB to the current directory (/kaggle/working/) that gets preserved as output when you create a version using \"Save & Run All\" \n",
    "# You can also write temporary files to /kaggle/temp/, but they won't be saved outside of the current session"
   ]
  },
  {
   "cell_type": "code",
   "execution_count": 2,
   "id": "b074465c",
   "metadata": {
    "execution": {
     "iopub.execute_input": "2022-04-13T15:07:23.918611Z",
     "iopub.status.busy": "2022-04-13T15:07:23.918256Z",
     "iopub.status.idle": "2022-04-13T15:07:23.967367Z",
     "shell.execute_reply": "2022-04-13T15:07:23.966436Z"
    },
    "papermill": {
     "duration": 0.094546,
     "end_time": "2022-04-13T15:07:23.969614",
     "exception": false,
     "start_time": "2022-04-13T15:07:23.875068",
     "status": "completed"
    },
    "tags": []
   },
   "outputs": [
    {
     "data": {
      "text/html": [
       "<div>\n",
       "<style scoped>\n",
       "    .dataframe tbody tr th:only-of-type {\n",
       "        vertical-align: middle;\n",
       "    }\n",
       "\n",
       "    .dataframe tbody tr th {\n",
       "        vertical-align: top;\n",
       "    }\n",
       "\n",
       "    .dataframe thead th {\n",
       "        text-align: right;\n",
       "    }\n",
       "</style>\n",
       "<table border=\"1\" class=\"dataframe\">\n",
       "  <thead>\n",
       "    <tr style=\"text-align: right;\">\n",
       "      <th></th>\n",
       "      <th>PassengerId</th>\n",
       "      <th>Survived</th>\n",
       "      <th>Pclass</th>\n",
       "      <th>Name</th>\n",
       "      <th>Sex</th>\n",
       "      <th>Age</th>\n",
       "      <th>SibSp</th>\n",
       "      <th>Parch</th>\n",
       "      <th>Ticket</th>\n",
       "      <th>Fare</th>\n",
       "      <th>Cabin</th>\n",
       "      <th>Embarked</th>\n",
       "    </tr>\n",
       "  </thead>\n",
       "  <tbody>\n",
       "    <tr>\n",
       "      <th>0</th>\n",
       "      <td>1</td>\n",
       "      <td>0</td>\n",
       "      <td>3</td>\n",
       "      <td>Braund, Mr. Owen Harris</td>\n",
       "      <td>male</td>\n",
       "      <td>22.0</td>\n",
       "      <td>1</td>\n",
       "      <td>0</td>\n",
       "      <td>A/5 21171</td>\n",
       "      <td>7.2500</td>\n",
       "      <td>NaN</td>\n",
       "      <td>S</td>\n",
       "    </tr>\n",
       "    <tr>\n",
       "      <th>1</th>\n",
       "      <td>2</td>\n",
       "      <td>1</td>\n",
       "      <td>1</td>\n",
       "      <td>Cumings, Mrs. John Bradley (Florence Briggs Th...</td>\n",
       "      <td>female</td>\n",
       "      <td>38.0</td>\n",
       "      <td>1</td>\n",
       "      <td>0</td>\n",
       "      <td>PC 17599</td>\n",
       "      <td>71.2833</td>\n",
       "      <td>C85</td>\n",
       "      <td>C</td>\n",
       "    </tr>\n",
       "    <tr>\n",
       "      <th>2</th>\n",
       "      <td>3</td>\n",
       "      <td>1</td>\n",
       "      <td>3</td>\n",
       "      <td>Heikkinen, Miss. Laina</td>\n",
       "      <td>female</td>\n",
       "      <td>26.0</td>\n",
       "      <td>0</td>\n",
       "      <td>0</td>\n",
       "      <td>STON/O2. 3101282</td>\n",
       "      <td>7.9250</td>\n",
       "      <td>NaN</td>\n",
       "      <td>S</td>\n",
       "    </tr>\n",
       "    <tr>\n",
       "      <th>3</th>\n",
       "      <td>4</td>\n",
       "      <td>1</td>\n",
       "      <td>1</td>\n",
       "      <td>Futrelle, Mrs. Jacques Heath (Lily May Peel)</td>\n",
       "      <td>female</td>\n",
       "      <td>35.0</td>\n",
       "      <td>1</td>\n",
       "      <td>0</td>\n",
       "      <td>113803</td>\n",
       "      <td>53.1000</td>\n",
       "      <td>C123</td>\n",
       "      <td>S</td>\n",
       "    </tr>\n",
       "    <tr>\n",
       "      <th>4</th>\n",
       "      <td>5</td>\n",
       "      <td>0</td>\n",
       "      <td>3</td>\n",
       "      <td>Allen, Mr. William Henry</td>\n",
       "      <td>male</td>\n",
       "      <td>35.0</td>\n",
       "      <td>0</td>\n",
       "      <td>0</td>\n",
       "      <td>373450</td>\n",
       "      <td>8.0500</td>\n",
       "      <td>NaN</td>\n",
       "      <td>S</td>\n",
       "    </tr>\n",
       "  </tbody>\n",
       "</table>\n",
       "</div>"
      ],
      "text/plain": [
       "   PassengerId  Survived  Pclass  \\\n",
       "0            1         0       3   \n",
       "1            2         1       1   \n",
       "2            3         1       3   \n",
       "3            4         1       1   \n",
       "4            5         0       3   \n",
       "\n",
       "                                                Name     Sex   Age  SibSp  \\\n",
       "0                            Braund, Mr. Owen Harris    male  22.0      1   \n",
       "1  Cumings, Mrs. John Bradley (Florence Briggs Th...  female  38.0      1   \n",
       "2                             Heikkinen, Miss. Laina  female  26.0      0   \n",
       "3       Futrelle, Mrs. Jacques Heath (Lily May Peel)  female  35.0      1   \n",
       "4                           Allen, Mr. William Henry    male  35.0      0   \n",
       "\n",
       "   Parch            Ticket     Fare Cabin Embarked  \n",
       "0      0         A/5 21171   7.2500   NaN        S  \n",
       "1      0          PC 17599  71.2833   C85        C  \n",
       "2      0  STON/O2. 3101282   7.9250   NaN        S  \n",
       "3      0            113803  53.1000  C123        S  \n",
       "4      0            373450   8.0500   NaN        S  "
      ]
     },
     "execution_count": 2,
     "metadata": {},
     "output_type": "execute_result"
    }
   ],
   "source": [
    "train_data = pd.read_csv('/kaggle/input/titanic/train.csv')  \n",
    "test_data = pd.read_csv('/kaggle/input/titanic/test.csv')\n",
    "train_data.head()"
   ]
  },
  {
   "cell_type": "markdown",
   "id": "3e946caf",
   "metadata": {
    "papermill": {
     "duration": 0.04246,
     "end_time": "2022-04-13T15:07:24.056571",
     "exception": false,
     "start_time": "2022-04-13T15:07:24.014111",
     "status": "completed"
    },
    "tags": []
   },
   "source": [
    "# EDA\n",
    "We have a training dataset which contains several columns. Some of these columns are expectedly disposable, as they barely affect the survivability of the passenger. The problem starts with the selection of attributes.\n",
    "First off, let us check for missing values in the dataset."
   ]
  },
  {
   "cell_type": "code",
   "execution_count": 3,
   "id": "55440276",
   "metadata": {
    "execution": {
     "iopub.execute_input": "2022-04-13T15:07:24.142296Z",
     "iopub.status.busy": "2022-04-13T15:07:24.141982Z",
     "iopub.status.idle": "2022-04-13T15:07:24.147665Z",
     "shell.execute_reply": "2022-04-13T15:07:24.146703Z"
    },
    "papermill": {
     "duration": 0.050927,
     "end_time": "2022-04-13T15:07:24.149641",
     "exception": false,
     "start_time": "2022-04-13T15:07:24.098714",
     "status": "completed"
    },
    "tags": []
   },
   "outputs": [
    {
     "data": {
      "text/plain": [
       "(891, 12)"
      ]
     },
     "execution_count": 3,
     "metadata": {},
     "output_type": "execute_result"
    }
   ],
   "source": [
    "df = train_data\n",
    "df_test = test_data\n",
    "np.shape(df)"
   ]
  },
  {
   "cell_type": "markdown",
   "id": "35147492",
   "metadata": {
    "papermill": {
     "duration": 0.04209,
     "end_time": "2022-04-13T15:07:24.234712",
     "exception": false,
     "start_time": "2022-04-13T15:07:24.192622",
     "status": "completed"
    },
    "tags": []
   },
   "source": [
    "The dataset contains 891 rows."
   ]
  },
  {
   "cell_type": "code",
   "execution_count": 4,
   "id": "89e09741",
   "metadata": {
    "execution": {
     "iopub.execute_input": "2022-04-13T15:07:24.321907Z",
     "iopub.status.busy": "2022-04-13T15:07:24.321389Z",
     "iopub.status.idle": "2022-04-13T15:07:24.330183Z",
     "shell.execute_reply": "2022-04-13T15:07:24.329157Z"
    },
    "papermill": {
     "duration": 0.055383,
     "end_time": "2022-04-13T15:07:24.332481",
     "exception": false,
     "start_time": "2022-04-13T15:07:24.277098",
     "status": "completed"
    },
    "tags": []
   },
   "outputs": [
    {
     "data": {
      "text/plain": [
       "PassengerId      0\n",
       "Survived         0\n",
       "Pclass           0\n",
       "Name             0\n",
       "Sex              0\n",
       "Age            177\n",
       "SibSp            0\n",
       "Parch            0\n",
       "Ticket           0\n",
       "Fare             0\n",
       "Cabin          687\n",
       "Embarked         2\n",
       "dtype: int64"
      ]
     },
     "execution_count": 4,
     "metadata": {},
     "output_type": "execute_result"
    }
   ],
   "source": [
    "pd.isna(df).sum()"
   ]
  },
  {
   "cell_type": "markdown",
   "id": "94091d52",
   "metadata": {
    "papermill": {
     "duration": 0.042164,
     "end_time": "2022-04-13T15:07:24.417879",
     "exception": false,
     "start_time": "2022-04-13T15:07:24.375715",
     "status": "completed"
    },
    "tags": []
   },
   "source": [
    "Off these 891 rows, 177 are missing information about the Passenger's age, and 687 missing information about the Passenger's Cabin.\n",
    "\n",
    "As a large percentage of Cabin information is missing, it would be wise to completely drop this attribute, instead of attempting to fill in the missing values. Let us also drop two extra columns, PassengerId and Ticket, as these will not influence the survivability in any way."
   ]
  },
  {
   "cell_type": "code",
   "execution_count": 5,
   "id": "51a4e4cf",
   "metadata": {
    "execution": {
     "iopub.execute_input": "2022-04-13T15:07:24.506037Z",
     "iopub.status.busy": "2022-04-13T15:07:24.505715Z",
     "iopub.status.idle": "2022-04-13T15:07:24.527253Z",
     "shell.execute_reply": "2022-04-13T15:07:24.526639Z"
    },
    "papermill": {
     "duration": 0.067612,
     "end_time": "2022-04-13T15:07:24.529306",
     "exception": false,
     "start_time": "2022-04-13T15:07:24.461694",
     "status": "completed"
    },
    "tags": []
   },
   "outputs": [
    {
     "data": {
      "text/html": [
       "<div>\n",
       "<style scoped>\n",
       "    .dataframe tbody tr th:only-of-type {\n",
       "        vertical-align: middle;\n",
       "    }\n",
       "\n",
       "    .dataframe tbody tr th {\n",
       "        vertical-align: top;\n",
       "    }\n",
       "\n",
       "    .dataframe thead th {\n",
       "        text-align: right;\n",
       "    }\n",
       "</style>\n",
       "<table border=\"1\" class=\"dataframe\">\n",
       "  <thead>\n",
       "    <tr style=\"text-align: right;\">\n",
       "      <th></th>\n",
       "      <th>Survived</th>\n",
       "      <th>Pclass</th>\n",
       "      <th>Name</th>\n",
       "      <th>Sex</th>\n",
       "      <th>Age</th>\n",
       "      <th>SibSp</th>\n",
       "      <th>Parch</th>\n",
       "      <th>Fare</th>\n",
       "      <th>Embarked</th>\n",
       "    </tr>\n",
       "  </thead>\n",
       "  <tbody>\n",
       "    <tr>\n",
       "      <th>0</th>\n",
       "      <td>0</td>\n",
       "      <td>3</td>\n",
       "      <td>Braund, Mr. Owen Harris</td>\n",
       "      <td>male</td>\n",
       "      <td>22.0</td>\n",
       "      <td>1</td>\n",
       "      <td>0</td>\n",
       "      <td>7.2500</td>\n",
       "      <td>S</td>\n",
       "    </tr>\n",
       "    <tr>\n",
       "      <th>1</th>\n",
       "      <td>1</td>\n",
       "      <td>1</td>\n",
       "      <td>Cumings, Mrs. John Bradley (Florence Briggs Th...</td>\n",
       "      <td>female</td>\n",
       "      <td>38.0</td>\n",
       "      <td>1</td>\n",
       "      <td>0</td>\n",
       "      <td>71.2833</td>\n",
       "      <td>C</td>\n",
       "    </tr>\n",
       "    <tr>\n",
       "      <th>2</th>\n",
       "      <td>1</td>\n",
       "      <td>3</td>\n",
       "      <td>Heikkinen, Miss. Laina</td>\n",
       "      <td>female</td>\n",
       "      <td>26.0</td>\n",
       "      <td>0</td>\n",
       "      <td>0</td>\n",
       "      <td>7.9250</td>\n",
       "      <td>S</td>\n",
       "    </tr>\n",
       "    <tr>\n",
       "      <th>3</th>\n",
       "      <td>1</td>\n",
       "      <td>1</td>\n",
       "      <td>Futrelle, Mrs. Jacques Heath (Lily May Peel)</td>\n",
       "      <td>female</td>\n",
       "      <td>35.0</td>\n",
       "      <td>1</td>\n",
       "      <td>0</td>\n",
       "      <td>53.1000</td>\n",
       "      <td>S</td>\n",
       "    </tr>\n",
       "    <tr>\n",
       "      <th>4</th>\n",
       "      <td>0</td>\n",
       "      <td>3</td>\n",
       "      <td>Allen, Mr. William Henry</td>\n",
       "      <td>male</td>\n",
       "      <td>35.0</td>\n",
       "      <td>0</td>\n",
       "      <td>0</td>\n",
       "      <td>8.0500</td>\n",
       "      <td>S</td>\n",
       "    </tr>\n",
       "  </tbody>\n",
       "</table>\n",
       "</div>"
      ],
      "text/plain": [
       "   Survived  Pclass                                               Name  \\\n",
       "0         0       3                            Braund, Mr. Owen Harris   \n",
       "1         1       1  Cumings, Mrs. John Bradley (Florence Briggs Th...   \n",
       "2         1       3                             Heikkinen, Miss. Laina   \n",
       "3         1       1       Futrelle, Mrs. Jacques Heath (Lily May Peel)   \n",
       "4         0       3                           Allen, Mr. William Henry   \n",
       "\n",
       "      Sex   Age  SibSp  Parch     Fare Embarked  \n",
       "0    male  22.0      1      0   7.2500        S  \n",
       "1  female  38.0      1      0  71.2833        C  \n",
       "2  female  26.0      0      0   7.9250        S  \n",
       "3  female  35.0      1      0  53.1000        S  \n",
       "4    male  35.0      0      0   8.0500        S  "
      ]
     },
     "execution_count": 5,
     "metadata": {},
     "output_type": "execute_result"
    }
   ],
   "source": [
    "df = df.drop(['PassengerId', 'Ticket', 'Cabin'], axis=1)\n",
    "df_test = df_test.drop(['PassengerId', 'Ticket', 'Cabin'], axis=1)\n",
    "df.head()"
   ]
  },
  {
   "cell_type": "markdown",
   "id": "9e5c6741",
   "metadata": {
    "papermill": {
     "duration": 0.042743,
     "end_time": "2022-04-13T15:07:24.615693",
     "exception": false,
     "start_time": "2022-04-13T15:07:24.572950",
     "status": "completed"
    },
    "tags": []
   },
   "source": [
    "All that's missing now is deciding what to do with the column Age's missing values. I decided to fill them, with the mean of the column."
   ]
  },
  {
   "cell_type": "code",
   "execution_count": 6,
   "id": "5dd933a9",
   "metadata": {
    "execution": {
     "iopub.execute_input": "2022-04-13T15:07:24.705175Z",
     "iopub.status.busy": "2022-04-13T15:07:24.704681Z",
     "iopub.status.idle": "2022-04-13T15:07:24.717914Z",
     "shell.execute_reply": "2022-04-13T15:07:24.717317Z"
    },
    "papermill": {
     "duration": 0.060916,
     "end_time": "2022-04-13T15:07:24.719703",
     "exception": false,
     "start_time": "2022-04-13T15:07:24.658787",
     "status": "completed"
    },
    "tags": []
   },
   "outputs": [
    {
     "data": {
      "text/plain": [
       "Survived    0\n",
       "Pclass      0\n",
       "Name        0\n",
       "Sex         0\n",
       "Age         0\n",
       "SibSp       0\n",
       "Parch       0\n",
       "Fare        0\n",
       "Embarked    0\n",
       "dtype: int64"
      ]
     },
     "execution_count": 6,
     "metadata": {},
     "output_type": "execute_result"
    }
   ],
   "source": [
    "df = df.fillna(df['Age'].mean())\n",
    "df_test = df_test.fillna(df_test['Age'].mean())\n",
    "pd.isna(df).sum()"
   ]
  },
  {
   "cell_type": "markdown",
   "id": "957e2d97",
   "metadata": {
    "papermill": {
     "duration": 0.044236,
     "end_time": "2022-04-13T15:07:24.807477",
     "exception": false,
     "start_time": "2022-04-13T15:07:24.763241",
     "status": "completed"
    },
    "tags": []
   },
   "source": [
    "Now that the missing values are dealt with, and uninteresting columns have been dropped, let's evaluate each column.\n",
    "The SibSp and Parch columns may be simplified in one, that would just give information about if the passenger had any family on the boat or not."
   ]
  },
  {
   "cell_type": "code",
   "execution_count": 7,
   "id": "352a2b26",
   "metadata": {
    "execution": {
     "iopub.execute_input": "2022-04-13T15:07:24.896831Z",
     "iopub.status.busy": "2022-04-13T15:07:24.896165Z",
     "iopub.status.idle": "2022-04-13T15:07:24.922277Z",
     "shell.execute_reply": "2022-04-13T15:07:24.921614Z"
    },
    "papermill": {
     "duration": 0.072981,
     "end_time": "2022-04-13T15:07:24.924129",
     "exception": false,
     "start_time": "2022-04-13T15:07:24.851148",
     "status": "completed"
    },
    "tags": []
   },
   "outputs": [
    {
     "data": {
      "text/html": [
       "<div>\n",
       "<style scoped>\n",
       "    .dataframe tbody tr th:only-of-type {\n",
       "        vertical-align: middle;\n",
       "    }\n",
       "\n",
       "    .dataframe tbody tr th {\n",
       "        vertical-align: top;\n",
       "    }\n",
       "\n",
       "    .dataframe thead th {\n",
       "        text-align: right;\n",
       "    }\n",
       "</style>\n",
       "<table border=\"1\" class=\"dataframe\">\n",
       "  <thead>\n",
       "    <tr style=\"text-align: right;\">\n",
       "      <th></th>\n",
       "      <th>Survived</th>\n",
       "      <th>Pclass</th>\n",
       "      <th>Name</th>\n",
       "      <th>Sex</th>\n",
       "      <th>Age</th>\n",
       "      <th>Fare</th>\n",
       "      <th>Embarked</th>\n",
       "      <th>Family</th>\n",
       "    </tr>\n",
       "  </thead>\n",
       "  <tbody>\n",
       "    <tr>\n",
       "      <th>0</th>\n",
       "      <td>0</td>\n",
       "      <td>3</td>\n",
       "      <td>Braund, Mr. Owen Harris</td>\n",
       "      <td>male</td>\n",
       "      <td>22.0</td>\n",
       "      <td>7.2500</td>\n",
       "      <td>S</td>\n",
       "      <td>1</td>\n",
       "    </tr>\n",
       "    <tr>\n",
       "      <th>1</th>\n",
       "      <td>1</td>\n",
       "      <td>1</td>\n",
       "      <td>Cumings, Mrs. John Bradley (Florence Briggs Th...</td>\n",
       "      <td>female</td>\n",
       "      <td>38.0</td>\n",
       "      <td>71.2833</td>\n",
       "      <td>C</td>\n",
       "      <td>1</td>\n",
       "    </tr>\n",
       "    <tr>\n",
       "      <th>2</th>\n",
       "      <td>1</td>\n",
       "      <td>3</td>\n",
       "      <td>Heikkinen, Miss. Laina</td>\n",
       "      <td>female</td>\n",
       "      <td>26.0</td>\n",
       "      <td>7.9250</td>\n",
       "      <td>S</td>\n",
       "      <td>0</td>\n",
       "    </tr>\n",
       "    <tr>\n",
       "      <th>3</th>\n",
       "      <td>1</td>\n",
       "      <td>1</td>\n",
       "      <td>Futrelle, Mrs. Jacques Heath (Lily May Peel)</td>\n",
       "      <td>female</td>\n",
       "      <td>35.0</td>\n",
       "      <td>53.1000</td>\n",
       "      <td>S</td>\n",
       "      <td>1</td>\n",
       "    </tr>\n",
       "    <tr>\n",
       "      <th>4</th>\n",
       "      <td>0</td>\n",
       "      <td>3</td>\n",
       "      <td>Allen, Mr. William Henry</td>\n",
       "      <td>male</td>\n",
       "      <td>35.0</td>\n",
       "      <td>8.0500</td>\n",
       "      <td>S</td>\n",
       "      <td>0</td>\n",
       "    </tr>\n",
       "  </tbody>\n",
       "</table>\n",
       "</div>"
      ],
      "text/plain": [
       "   Survived  Pclass                                               Name  \\\n",
       "0         0       3                            Braund, Mr. Owen Harris   \n",
       "1         1       1  Cumings, Mrs. John Bradley (Florence Briggs Th...   \n",
       "2         1       3                             Heikkinen, Miss. Laina   \n",
       "3         1       1       Futrelle, Mrs. Jacques Heath (Lily May Peel)   \n",
       "4         0       3                           Allen, Mr. William Henry   \n",
       "\n",
       "      Sex   Age     Fare Embarked  Family  \n",
       "0    male  22.0   7.2500        S       1  \n",
       "1  female  38.0  71.2833        C       1  \n",
       "2  female  26.0   7.9250        S       0  \n",
       "3  female  35.0  53.1000        S       1  \n",
       "4    male  35.0   8.0500        S       0  "
      ]
     },
     "execution_count": 7,
     "metadata": {},
     "output_type": "execute_result"
    }
   ],
   "source": [
    "Family = train_data['SibSp'] + train_data['Parch']\n",
    "fam = pd.Series(Family)\n",
    "fam = fam.rename('Family')\n",
    "df = pd.concat([df, fam], axis=1)\n",
    "df = df.drop(['SibSp', 'Parch', ], axis=1)\n",
    "\n",
    "Family = test_data['SibSp'] + test_data['Parch']\n",
    "fam = pd.Series(Family)\n",
    "fam = fam.rename('Family')\n",
    "df_test = pd.concat([df_test, fam], axis=1)\n",
    "df_test = df_test.drop(['SibSp', 'Parch', ], axis=1)\n",
    "\n",
    "df.head()"
   ]
  },
  {
   "cell_type": "markdown",
   "id": "8c63457e",
   "metadata": {
    "papermill": {
     "duration": 0.044755,
     "end_time": "2022-04-13T15:07:25.013200",
     "exception": false,
     "start_time": "2022-04-13T15:07:24.968445",
     "status": "completed"
    },
    "tags": []
   },
   "source": [
    "As we are not interested in the amount of family members the passenger had in the boat, only if the passenger had any, we'll reformulate the Family Column into a binary column."
   ]
  },
  {
   "cell_type": "code",
   "execution_count": 8,
   "id": "b7190819",
   "metadata": {
    "execution": {
     "iopub.execute_input": "2022-04-13T15:07:25.104270Z",
     "iopub.status.busy": "2022-04-13T15:07:25.103636Z",
     "iopub.status.idle": "2022-04-13T15:07:25.115054Z",
     "shell.execute_reply": "2022-04-13T15:07:25.114352Z"
    },
    "papermill": {
     "duration": 0.05943,
     "end_time": "2022-04-13T15:07:25.116913",
     "exception": false,
     "start_time": "2022-04-13T15:07:25.057483",
     "status": "completed"
    },
    "tags": []
   },
   "outputs": [
    {
     "data": {
      "text/plain": [
       "0    537\n",
       "1    354\n",
       "Name: Family, dtype: int64"
      ]
     },
     "execution_count": 8,
     "metadata": {},
     "output_type": "execute_result"
    }
   ],
   "source": [
    "df.loc[df['Family'] > 1, 'Family'] = 1\n",
    "df_test.loc[df_test['Family'] > 1, 'Family'] = 1\n",
    "df['Family'].value_counts()"
   ]
  },
  {
   "cell_type": "markdown",
   "id": "0981f392",
   "metadata": {
    "papermill": {
     "duration": 0.044709,
     "end_time": "2022-04-13T15:07:25.206366",
     "exception": false,
     "start_time": "2022-04-13T15:07:25.161657",
     "status": "completed"
    },
    "tags": []
   },
   "source": [
    "Onto the Sex column, let's change it from categorical to binary."
   ]
  },
  {
   "cell_type": "code",
   "execution_count": 9,
   "id": "ff963c37",
   "metadata": {
    "execution": {
     "iopub.execute_input": "2022-04-13T15:07:25.297169Z",
     "iopub.status.busy": "2022-04-13T15:07:25.296869Z",
     "iopub.status.idle": "2022-04-13T15:07:25.313177Z",
     "shell.execute_reply": "2022-04-13T15:07:25.312593Z"
    },
    "papermill": {
     "duration": 0.063961,
     "end_time": "2022-04-13T15:07:25.315065",
     "exception": false,
     "start_time": "2022-04-13T15:07:25.251104",
     "status": "completed"
    },
    "tags": []
   },
   "outputs": [
    {
     "data": {
      "text/html": [
       "<div>\n",
       "<style scoped>\n",
       "    .dataframe tbody tr th:only-of-type {\n",
       "        vertical-align: middle;\n",
       "    }\n",
       "\n",
       "    .dataframe tbody tr th {\n",
       "        vertical-align: top;\n",
       "    }\n",
       "\n",
       "    .dataframe thead th {\n",
       "        text-align: right;\n",
       "    }\n",
       "</style>\n",
       "<table border=\"1\" class=\"dataframe\">\n",
       "  <thead>\n",
       "    <tr style=\"text-align: right;\">\n",
       "      <th></th>\n",
       "      <th>Survived</th>\n",
       "      <th>Pclass</th>\n",
       "      <th>Name</th>\n",
       "      <th>Sex</th>\n",
       "      <th>Age</th>\n",
       "      <th>Fare</th>\n",
       "      <th>Embarked</th>\n",
       "      <th>Family</th>\n",
       "    </tr>\n",
       "  </thead>\n",
       "  <tbody>\n",
       "    <tr>\n",
       "      <th>0</th>\n",
       "      <td>0</td>\n",
       "      <td>3</td>\n",
       "      <td>Braund, Mr. Owen Harris</td>\n",
       "      <td>0</td>\n",
       "      <td>22.0</td>\n",
       "      <td>7.2500</td>\n",
       "      <td>S</td>\n",
       "      <td>1</td>\n",
       "    </tr>\n",
       "    <tr>\n",
       "      <th>1</th>\n",
       "      <td>1</td>\n",
       "      <td>1</td>\n",
       "      <td>Cumings, Mrs. John Bradley (Florence Briggs Th...</td>\n",
       "      <td>1</td>\n",
       "      <td>38.0</td>\n",
       "      <td>71.2833</td>\n",
       "      <td>C</td>\n",
       "      <td>1</td>\n",
       "    </tr>\n",
       "    <tr>\n",
       "      <th>2</th>\n",
       "      <td>1</td>\n",
       "      <td>3</td>\n",
       "      <td>Heikkinen, Miss. Laina</td>\n",
       "      <td>1</td>\n",
       "      <td>26.0</td>\n",
       "      <td>7.9250</td>\n",
       "      <td>S</td>\n",
       "      <td>0</td>\n",
       "    </tr>\n",
       "    <tr>\n",
       "      <th>3</th>\n",
       "      <td>1</td>\n",
       "      <td>1</td>\n",
       "      <td>Futrelle, Mrs. Jacques Heath (Lily May Peel)</td>\n",
       "      <td>1</td>\n",
       "      <td>35.0</td>\n",
       "      <td>53.1000</td>\n",
       "      <td>S</td>\n",
       "      <td>1</td>\n",
       "    </tr>\n",
       "    <tr>\n",
       "      <th>4</th>\n",
       "      <td>0</td>\n",
       "      <td>3</td>\n",
       "      <td>Allen, Mr. William Henry</td>\n",
       "      <td>0</td>\n",
       "      <td>35.0</td>\n",
       "      <td>8.0500</td>\n",
       "      <td>S</td>\n",
       "      <td>0</td>\n",
       "    </tr>\n",
       "  </tbody>\n",
       "</table>\n",
       "</div>"
      ],
      "text/plain": [
       "   Survived  Pclass                                               Name  Sex  \\\n",
       "0         0       3                            Braund, Mr. Owen Harris    0   \n",
       "1         1       1  Cumings, Mrs. John Bradley (Florence Briggs Th...    1   \n",
       "2         1       3                             Heikkinen, Miss. Laina    1   \n",
       "3         1       1       Futrelle, Mrs. Jacques Heath (Lily May Peel)    1   \n",
       "4         0       3                           Allen, Mr. William Henry    0   \n",
       "\n",
       "    Age     Fare Embarked  Family  \n",
       "0  22.0   7.2500        S       1  \n",
       "1  38.0  71.2833        C       1  \n",
       "2  26.0   7.9250        S       0  \n",
       "3  35.0  53.1000        S       1  \n",
       "4  35.0   8.0500        S       0  "
      ]
     },
     "execution_count": 9,
     "metadata": {},
     "output_type": "execute_result"
    }
   ],
   "source": [
    "df['Sex'].replace(to_replace=['male','female'], value=[0,1],inplace=True)\n",
    "df_test['Sex'].replace(to_replace=['male','female'], value=[0,1],inplace=True)\n",
    "df.head()"
   ]
  },
  {
   "cell_type": "markdown",
   "id": "bd9fd23d",
   "metadata": {
    "papermill": {
     "duration": 0.045056,
     "end_time": "2022-04-13T15:07:25.405681",
     "exception": false,
     "start_time": "2022-04-13T15:07:25.360625",
     "status": "completed"
    },
    "tags": []
   },
   "source": [
    "Let us analyse the Embarked column now."
   ]
  },
  {
   "cell_type": "code",
   "execution_count": 10,
   "id": "c1256538",
   "metadata": {
    "execution": {
     "iopub.execute_input": "2022-04-13T15:07:25.498908Z",
     "iopub.status.busy": "2022-04-13T15:07:25.498351Z",
     "iopub.status.idle": "2022-04-13T15:07:25.506078Z",
     "shell.execute_reply": "2022-04-13T15:07:25.505250Z"
    },
    "papermill": {
     "duration": 0.056662,
     "end_time": "2022-04-13T15:07:25.508081",
     "exception": false,
     "start_time": "2022-04-13T15:07:25.451419",
     "status": "completed"
    },
    "tags": []
   },
   "outputs": [
    {
     "data": {
      "text/plain": [
       "S                    644\n",
       "C                    168\n",
       "Q                     77\n",
       "29.69911764705882      2\n",
       "Name: Embarked, dtype: int64"
      ]
     },
     "execution_count": 10,
     "metadata": {},
     "output_type": "execute_result"
    }
   ],
   "source": [
    "df['Embarked'].value_counts()"
   ]
  },
  {
   "cell_type": "code",
   "execution_count": 11,
   "id": "cbf81b26",
   "metadata": {
    "execution": {
     "iopub.execute_input": "2022-04-13T15:07:25.603678Z",
     "iopub.status.busy": "2022-04-13T15:07:25.603122Z",
     "iopub.status.idle": "2022-04-13T15:07:25.610623Z",
     "shell.execute_reply": "2022-04-13T15:07:25.609807Z"
    },
    "papermill": {
     "duration": 0.056677,
     "end_time": "2022-04-13T15:07:25.612544",
     "exception": false,
     "start_time": "2022-04-13T15:07:25.555867",
     "status": "completed"
    },
    "tags": []
   },
   "outputs": [
    {
     "data": {
      "text/plain": [
       "S    270\n",
       "C    102\n",
       "Q     46\n",
       "Name: Embarked, dtype: int64"
      ]
     },
     "execution_count": 11,
     "metadata": {},
     "output_type": "execute_result"
    }
   ],
   "source": [
    "df_test['Embarked'].value_counts()"
   ]
  },
  {
   "cell_type": "markdown",
   "id": "db74ea49",
   "metadata": {
    "papermill": {
     "duration": 0.045906,
     "end_time": "2022-04-13T15:07:25.704894",
     "exception": false,
     "start_time": "2022-04-13T15:07:25.658988",
     "status": "completed"
    },
    "tags": []
   },
   "source": [
    "We see that, for some reason, there are 2 numerical values in the Embarked column. Let us replace them with the mode of the column."
   ]
  },
  {
   "cell_type": "code",
   "execution_count": 12,
   "id": "1671f2aa",
   "metadata": {
    "execution": {
     "iopub.execute_input": "2022-04-13T15:07:25.798846Z",
     "iopub.status.busy": "2022-04-13T15:07:25.798220Z",
     "iopub.status.idle": "2022-04-13T15:07:25.807435Z",
     "shell.execute_reply": "2022-04-13T15:07:25.806563Z"
    },
    "papermill": {
     "duration": 0.058423,
     "end_time": "2022-04-13T15:07:25.809386",
     "exception": false,
     "start_time": "2022-04-13T15:07:25.750963",
     "status": "completed"
    },
    "tags": []
   },
   "outputs": [
    {
     "data": {
      "text/plain": [
       "S    646\n",
       "C    168\n",
       "Q     77\n",
       "Name: Embarked, dtype: int64"
      ]
     },
     "execution_count": 12,
     "metadata": {},
     "output_type": "execute_result"
    }
   ],
   "source": [
    "df.loc[df['Embarked'] == 29.69911764705882, 'Embarked'] = 'S'\n",
    "df['Embarked'].value_counts()"
   ]
  },
  {
   "cell_type": "markdown",
   "id": "ee822ea0",
   "metadata": {
    "papermill": {
     "duration": 0.046839,
     "end_time": "2022-04-13T15:07:25.902728",
     "exception": false,
     "start_time": "2022-04-13T15:07:25.855889",
     "status": "completed"
    },
    "tags": []
   },
   "source": [
    "Much better. Let's change the 3 designations into values, 0 for S, 1 for C, 2 for Q."
   ]
  },
  {
   "cell_type": "code",
   "execution_count": 13,
   "id": "47aa3f48",
   "metadata": {
    "execution": {
     "iopub.execute_input": "2022-04-13T15:07:25.998046Z",
     "iopub.status.busy": "2022-04-13T15:07:25.997459Z",
     "iopub.status.idle": "2022-04-13T15:07:26.009726Z",
     "shell.execute_reply": "2022-04-13T15:07:26.008605Z"
    },
    "papermill": {
     "duration": 0.062372,
     "end_time": "2022-04-13T15:07:26.011920",
     "exception": false,
     "start_time": "2022-04-13T15:07:25.949548",
     "status": "completed"
    },
    "tags": []
   },
   "outputs": [
    {
     "data": {
      "text/plain": [
       "0    646\n",
       "1    168\n",
       "2     77\n",
       "Name: Embarked, dtype: int64"
      ]
     },
     "execution_count": 13,
     "metadata": {},
     "output_type": "execute_result"
    }
   ],
   "source": [
    "df['Embarked'].replace(to_replace=['S','C', 'Q'], value=[0,1,2],inplace=True)\n",
    "df_test['Embarked'].replace(to_replace=['S','C', 'Q'], value=[0,1,2],inplace=True)\n",
    "df['Embarked'].value_counts()"
   ]
  },
  {
   "cell_type": "markdown",
   "id": "0988fb52",
   "metadata": {
    "papermill": {
     "duration": 0.047215,
     "end_time": "2022-04-13T15:07:26.106647",
     "exception": false,
     "start_time": "2022-04-13T15:07:26.059432",
     "status": "completed"
    },
    "tags": []
   },
   "source": [
    "The last column that demands some explanation/exploration is the Name column. I believe it would be quite interesting to correlate the title of the people to their survivability, e.g., Mr., Mrs., Miss, etc."
   ]
  },
  {
   "cell_type": "code",
   "execution_count": 14,
   "id": "a8674cd9",
   "metadata": {
    "execution": {
     "iopub.execute_input": "2022-04-13T15:07:26.203165Z",
     "iopub.status.busy": "2022-04-13T15:07:26.202638Z",
     "iopub.status.idle": "2022-04-13T15:07:26.213729Z",
     "shell.execute_reply": "2022-04-13T15:07:26.213040Z"
    },
    "papermill": {
     "duration": 0.061855,
     "end_time": "2022-04-13T15:07:26.215663",
     "exception": false,
     "start_time": "2022-04-13T15:07:26.153808",
     "status": "completed"
    },
    "tags": []
   },
   "outputs": [
    {
     "data": {
      "text/plain": [
       "Mr          517\n",
       "Miss        182\n",
       "Mrs         125\n",
       "Master       40\n",
       "Dr            7\n",
       "Rev           6\n",
       "Mlle          2\n",
       "Major         2\n",
       "Col           2\n",
       "Countess      1\n",
       "Capt          1\n",
       "Ms            1\n",
       "Sir           1\n",
       "Lady          1\n",
       "Mme           1\n",
       "Don           1\n",
       "Jonkheer      1\n",
       "Name: Name, dtype: int64"
      ]
     },
     "execution_count": 14,
     "metadata": {},
     "output_type": "execute_result"
    }
   ],
   "source": [
    "aux_df = df['Name'].str.extract(' ([A-Za-z]+)\\.', expand=False)\n",
    "aux_df_test = df_test['Name'].str.extract(' ([A-Za-z]+)\\.', expand=False)\n",
    "aux_df.value_counts()"
   ]
  },
  {
   "cell_type": "markdown",
   "id": "87cdbd2c",
   "metadata": {
    "papermill": {
     "duration": 0.0473,
     "end_time": "2022-04-13T15:07:26.310294",
     "exception": false,
     "start_time": "2022-04-13T15:07:26.262994",
     "status": "completed"
    },
    "tags": []
   },
   "source": [
    "So we have 4 common titles, 'Mr', 'Miss', 'Mrs', and 'Master'. First, let's correct the random designations (like 'Mlle', 'Ms', and 'MMe'), and attribute Rare to the random ones."
   ]
  },
  {
   "cell_type": "code",
   "execution_count": 15,
   "id": "d0d19277",
   "metadata": {
    "execution": {
     "iopub.execute_input": "2022-04-13T15:07:26.406470Z",
     "iopub.status.busy": "2022-04-13T15:07:26.405931Z",
     "iopub.status.idle": "2022-04-13T15:07:26.421443Z",
     "shell.execute_reply": "2022-04-13T15:07:26.420655Z"
    },
    "papermill": {
     "duration": 0.065929,
     "end_time": "2022-04-13T15:07:26.423496",
     "exception": false,
     "start_time": "2022-04-13T15:07:26.357567",
     "status": "completed"
    },
    "tags": []
   },
   "outputs": [
    {
     "data": {
      "text/plain": [
       "Mr        517\n",
       "Miss      185\n",
       "Mrs       126\n",
       "Master     40\n",
       "Rare       23\n",
       "Name: Name, dtype: int64"
      ]
     },
     "execution_count": 15,
     "metadata": {},
     "output_type": "execute_result"
    }
   ],
   "source": [
    "aux_df = aux_df.replace(['Lady', 'Countess','Capt', 'Col','Don', 'Dr', 'Major', 'Rev', 'Sir', 'Jonkheer', 'Dona'], 'Rare')\n",
    "aux_df = aux_df.replace('Mlle', 'Miss')\n",
    "aux_df = aux_df.replace('Ms', 'Miss')\n",
    "aux_df = aux_df.replace('Mme', 'Mrs')\n",
    "\n",
    "aux_df_test = aux_df_test.replace(['Lady', 'Countess','Capt', 'Col','Don', 'Dr', 'Major', 'Rev', 'Sir', 'Jonkheer', 'Dona'], 'Rare')\n",
    "aux_df_test = aux_df_test.replace('Mlle', 'Miss')\n",
    "aux_df_test = aux_df_test.replace('Ms', 'Miss')\n",
    "aux_df_test = aux_df_test.replace('Mme', 'Mrs')\n",
    "\n",
    "aux_df.value_counts()"
   ]
  },
  {
   "cell_type": "markdown",
   "id": "c763a5c3",
   "metadata": {
    "papermill": {
     "duration": 0.047401,
     "end_time": "2022-04-13T15:07:26.519345",
     "exception": false,
     "start_time": "2022-04-13T15:07:26.471944",
     "status": "completed"
    },
    "tags": []
   },
   "source": [
    "And now, let's turn them into numerical!"
   ]
  },
  {
   "cell_type": "code",
   "execution_count": 16,
   "id": "238ba40d",
   "metadata": {
    "execution": {
     "iopub.execute_input": "2022-04-13T15:07:26.616119Z",
     "iopub.status.busy": "2022-04-13T15:07:26.615750Z",
     "iopub.status.idle": "2022-04-13T15:07:26.628197Z",
     "shell.execute_reply": "2022-04-13T15:07:26.627282Z"
    },
    "papermill": {
     "duration": 0.063629,
     "end_time": "2022-04-13T15:07:26.630260",
     "exception": false,
     "start_time": "2022-04-13T15:07:26.566631",
     "status": "completed"
    },
    "tags": []
   },
   "outputs": [
    {
     "data": {
      "text/plain": [
       "0    517\n",
       "1    185\n",
       "2    126\n",
       "3     40\n",
       "4     23\n",
       "Name: Name, dtype: int64"
      ]
     },
     "execution_count": 16,
     "metadata": {},
     "output_type": "execute_result"
    }
   ],
   "source": [
    "aux_df.replace(to_replace=['Mr','Miss', 'Mrs', 'Master', 'Rare'], value=[0,1,2,3,4],inplace=True)\n",
    "aux_df_test.replace(to_replace=['Mr','Miss', 'Mrs', 'Master', 'Rare'], value=[0,1,2,3,4],inplace=True)\n",
    "aux_df.value_counts()"
   ]
  },
  {
   "cell_type": "markdown",
   "id": "0be4fa8c",
   "metadata": {
    "papermill": {
     "duration": 0.047579,
     "end_time": "2022-04-13T15:07:26.725643",
     "exception": false,
     "start_time": "2022-04-13T15:07:26.678064",
     "status": "completed"
    },
    "tags": []
   },
   "source": [
    "Now, to drop the 'Name' column from the main df, and attach the new one, named 'Titles'."
   ]
  },
  {
   "cell_type": "code",
   "execution_count": 17,
   "id": "773c67dd",
   "metadata": {
    "execution": {
     "iopub.execute_input": "2022-04-13T15:07:26.823515Z",
     "iopub.status.busy": "2022-04-13T15:07:26.822924Z",
     "iopub.status.idle": "2022-04-13T15:07:26.841204Z",
     "shell.execute_reply": "2022-04-13T15:07:26.840583Z"
    },
    "papermill": {
     "duration": 0.069232,
     "end_time": "2022-04-13T15:07:26.843058",
     "exception": false,
     "start_time": "2022-04-13T15:07:26.773826",
     "status": "completed"
    },
    "tags": []
   },
   "outputs": [
    {
     "data": {
      "text/html": [
       "<div>\n",
       "<style scoped>\n",
       "    .dataframe tbody tr th:only-of-type {\n",
       "        vertical-align: middle;\n",
       "    }\n",
       "\n",
       "    .dataframe tbody tr th {\n",
       "        vertical-align: top;\n",
       "    }\n",
       "\n",
       "    .dataframe thead th {\n",
       "        text-align: right;\n",
       "    }\n",
       "</style>\n",
       "<table border=\"1\" class=\"dataframe\">\n",
       "  <thead>\n",
       "    <tr style=\"text-align: right;\">\n",
       "      <th></th>\n",
       "      <th>Survived</th>\n",
       "      <th>Pclass</th>\n",
       "      <th>Sex</th>\n",
       "      <th>Age</th>\n",
       "      <th>Fare</th>\n",
       "      <th>Embarked</th>\n",
       "      <th>Family</th>\n",
       "      <th>Title</th>\n",
       "    </tr>\n",
       "  </thead>\n",
       "  <tbody>\n",
       "    <tr>\n",
       "      <th>0</th>\n",
       "      <td>0</td>\n",
       "      <td>3</td>\n",
       "      <td>0</td>\n",
       "      <td>22.0</td>\n",
       "      <td>7.2500</td>\n",
       "      <td>0</td>\n",
       "      <td>1</td>\n",
       "      <td>0</td>\n",
       "    </tr>\n",
       "    <tr>\n",
       "      <th>1</th>\n",
       "      <td>1</td>\n",
       "      <td>1</td>\n",
       "      <td>1</td>\n",
       "      <td>38.0</td>\n",
       "      <td>71.2833</td>\n",
       "      <td>1</td>\n",
       "      <td>1</td>\n",
       "      <td>2</td>\n",
       "    </tr>\n",
       "    <tr>\n",
       "      <th>2</th>\n",
       "      <td>1</td>\n",
       "      <td>3</td>\n",
       "      <td>1</td>\n",
       "      <td>26.0</td>\n",
       "      <td>7.9250</td>\n",
       "      <td>0</td>\n",
       "      <td>0</td>\n",
       "      <td>1</td>\n",
       "    </tr>\n",
       "    <tr>\n",
       "      <th>3</th>\n",
       "      <td>1</td>\n",
       "      <td>1</td>\n",
       "      <td>1</td>\n",
       "      <td>35.0</td>\n",
       "      <td>53.1000</td>\n",
       "      <td>0</td>\n",
       "      <td>1</td>\n",
       "      <td>2</td>\n",
       "    </tr>\n",
       "    <tr>\n",
       "      <th>4</th>\n",
       "      <td>0</td>\n",
       "      <td>3</td>\n",
       "      <td>0</td>\n",
       "      <td>35.0</td>\n",
       "      <td>8.0500</td>\n",
       "      <td>0</td>\n",
       "      <td>0</td>\n",
       "      <td>0</td>\n",
       "    </tr>\n",
       "  </tbody>\n",
       "</table>\n",
       "</div>"
      ],
      "text/plain": [
       "   Survived  Pclass  Sex   Age     Fare  Embarked  Family  Title\n",
       "0         0       3    0  22.0   7.2500         0       1      0\n",
       "1         1       1    1  38.0  71.2833         1       1      2\n",
       "2         1       3    1  26.0   7.9250         0       0      1\n",
       "3         1       1    1  35.0  53.1000         0       1      2\n",
       "4         0       3    0  35.0   8.0500         0       0      0"
      ]
     },
     "execution_count": 17,
     "metadata": {},
     "output_type": "execute_result"
    }
   ],
   "source": [
    "aux_df = aux_df.rename('Title')\n",
    "df = pd.concat([df, aux_df], axis=1)\n",
    "df = df.drop(['Name'], axis=1)\n",
    "\n",
    "aux_df_test = aux_df_test.rename('Title')\n",
    "df_test = pd.concat([df_test, aux_df_test], axis=1)\n",
    "df_test = df_test.drop(['Name'], axis=1)\n",
    "\n",
    "df.head()"
   ]
  },
  {
   "cell_type": "markdown",
   "id": "dbab4a76",
   "metadata": {
    "papermill": {
     "duration": 0.048928,
     "end_time": "2022-04-13T15:07:26.940709",
     "exception": false,
     "start_time": "2022-04-13T15:07:26.891781",
     "status": "completed"
    },
    "tags": []
   },
   "source": [
    "Now, all that's left is turning Age and Fare into categorical variables.\n",
    "\n",
    "\n",
    "Starting with Age, let's use these Age separation intervals:\n",
    "\n",
    "* 0-10: 0\n",
    "* 11-17: 1\n",
    "* 18-21: 2\n",
    "* 22-26: 3\n",
    "* 27-32: 4\n",
    "* 33-39: 5\n",
    "* 40-65: 6\n",
    "* 66+: 7"
   ]
  },
  {
   "cell_type": "code",
   "execution_count": 18,
   "id": "4f32079b",
   "metadata": {
    "execution": {
     "iopub.execute_input": "2022-04-13T15:07:27.039492Z",
     "iopub.status.busy": "2022-04-13T15:07:27.038978Z",
     "iopub.status.idle": "2022-04-13T15:07:27.071850Z",
     "shell.execute_reply": "2022-04-13T15:07:27.071115Z"
    },
    "papermill": {
     "duration": 0.084633,
     "end_time": "2022-04-13T15:07:27.073831",
     "exception": false,
     "start_time": "2022-04-13T15:07:26.989198",
     "status": "completed"
    },
    "tags": []
   },
   "outputs": [
    {
     "data": {
      "text/plain": [
       "4.0    306\n",
       "6.0    155\n",
       "3.0    115\n",
       "5.0    103\n",
       "2.0     91\n",
       "0.0     64\n",
       "1.0     49\n",
       "7.0      8\n",
       "Name: Age, dtype: int64"
      ]
     },
     "execution_count": 18,
     "metadata": {},
     "output_type": "execute_result"
    }
   ],
   "source": [
    "df.loc[df['Age'] < 11, 'Age'] = 0\n",
    "df.loc[(df['Age'] >=11) & (df['Age'] < 18), 'Age'] = 1\n",
    "df.loc[(df['Age'] >=18) & (df['Age'] < 22), 'Age'] = 2\n",
    "df.loc[(df['Age'] >=22) & (df['Age'] < 27), 'Age'] = 3\n",
    "df.loc[(df['Age'] >=27) & (df['Age'] < 33), 'Age'] = 4\n",
    "df.loc[(df['Age'] >=33) & (df['Age'] < 40), 'Age'] = 5\n",
    "df.loc[(df['Age'] >=40) & (df['Age'] < 66), 'Age'] = 6\n",
    "df.loc[df['Age'] >=66, 'Age'] = 7\n",
    "\n",
    "df_test.loc[df_test['Age'] < 11, 'Age'] = 0\n",
    "df_test.loc[(df_test['Age'] >=11) & (df_test['Age'] < 18), 'Age'] = 1\n",
    "df_test.loc[(df_test['Age'] >=18) & (df_test['Age'] < 22), 'Age'] = 2\n",
    "df_test.loc[(df_test['Age'] >=22) & (df_test['Age'] < 27), 'Age'] = 3\n",
    "df_test.loc[(df_test['Age'] >=27) & (df_test['Age'] < 33), 'Age'] = 4\n",
    "df_test.loc[(df_test['Age'] >=33) & (df_test['Age'] < 40), 'Age'] = 5\n",
    "df_test.loc[(df_test['Age'] >=40) & (df_test['Age'] < 66), 'Age'] = 6\n",
    "df_test.loc[df_test['Age'] >=66, 'Age'] = 7\n",
    "\n",
    "df['Age'].value_counts()"
   ]
  },
  {
   "cell_type": "markdown",
   "id": "f7ae630c",
   "metadata": {
    "papermill": {
     "duration": 0.050231,
     "end_time": "2022-04-13T15:07:27.174474",
     "exception": false,
     "start_time": "2022-04-13T15:07:27.124243",
     "status": "completed"
    },
    "tags": []
   },
   "source": [
    "And now, all that's left is Fare. I have no idea what a low or high fare was in those times, I found some tables online that gave out these intervals:\n",
    "* 0-7.91: Extremely Low\n",
    "* 7.91-14.454: Very Low\n",
    "* 14.454-31: Low\n",
    "* 31-99: High\n",
    "* 99-250: Very high\n",
    "* 250+: Extremely high"
   ]
  },
  {
   "cell_type": "code",
   "execution_count": 19,
   "id": "55c98cfe",
   "metadata": {
    "execution": {
     "iopub.execute_input": "2022-04-13T15:07:27.278149Z",
     "iopub.status.busy": "2022-04-13T15:07:27.277770Z",
     "iopub.status.idle": "2022-04-13T15:07:27.302389Z",
     "shell.execute_reply": "2022-04-13T15:07:27.301749Z"
    },
    "papermill": {
     "duration": 0.079591,
     "end_time": "2022-04-13T15:07:27.304435",
     "exception": false,
     "start_time": "2022-04-13T15:07:27.224844",
     "status": "completed"
    },
    "tags": []
   },
   "outputs": [
    {
     "data": {
      "text/plain": [
       "2.0    226\n",
       "0.0    223\n",
       "1.0    217\n",
       "3.0    172\n",
       "4.0     44\n",
       "5.0      9\n",
       "Name: Fare, dtype: int64"
      ]
     },
     "execution_count": 19,
     "metadata": {},
     "output_type": "execute_result"
    }
   ],
   "source": [
    "df.loc[df['Fare'] < 7.91, 'Fare'] = 0\n",
    "df.loc[(df['Fare'] >= 7.91) & (df['Fare'] < 14.454), 'Fare'] = 1\n",
    "df.loc[(df['Fare'] >= 14.454) & (df['Fare'] < 31), 'Fare'] = 2\n",
    "df.loc[(df['Fare'] >= 31) & (df['Fare'] < 99), 'Fare'] = 3\n",
    "df.loc[(df['Fare'] >= 99) & (df['Fare'] < 250), 'Fare'] = 4\n",
    "df.loc[df['Fare'] >= 250, 'Fare'] = 5\n",
    "\n",
    "df_test.loc[df_test['Fare'] < 7.91, 'Fare'] = 0\n",
    "df_test.loc[(df_test['Fare'] >= 7.91) & (df_test['Fare'] < 14.454), 'Fare'] = 1\n",
    "df_test.loc[(df_test['Fare'] >= 14.454) & (df_test['Fare'] < 31), 'Fare'] = 2\n",
    "df_test.loc[(df_test['Fare'] >= 31) & (df_test['Fare'] < 99), 'Fare'] = 3\n",
    "df_test.loc[(df_test['Fare'] >= 99) & (df_test['Fare'] < 250), 'Fare'] = 4\n",
    "df_test.loc[df_test['Fare'] >= 250, 'Fare'] = 5\n",
    "\n",
    "df['Fare'].value_counts()"
   ]
  },
  {
   "cell_type": "markdown",
   "id": "8e25b920",
   "metadata": {
    "papermill": {
     "duration": 0.049513,
     "end_time": "2022-04-13T15:07:27.403830",
     "exception": false,
     "start_time": "2022-04-13T15:07:27.354317",
     "status": "completed"
    },
    "tags": []
   },
   "source": [
    "Finally, let's check the correlation matrix."
   ]
  },
  {
   "cell_type": "code",
   "execution_count": 20,
   "id": "3d26dfe9",
   "metadata": {
    "execution": {
     "iopub.execute_input": "2022-04-13T15:07:27.506581Z",
     "iopub.status.busy": "2022-04-13T15:07:27.505603Z",
     "iopub.status.idle": "2022-04-13T15:07:28.147156Z",
     "shell.execute_reply": "2022-04-13T15:07:28.146193Z"
    },
    "papermill": {
     "duration": 0.696466,
     "end_time": "2022-04-13T15:07:28.149697",
     "exception": false,
     "start_time": "2022-04-13T15:07:27.453231",
     "status": "completed"
    },
    "tags": []
   },
   "outputs": [
    {
     "data": {
      "text/plain": [
       "(array([0.5, 1.5, 2.5, 3.5, 4.5, 5.5, 6.5, 7.5]),\n",
       " [Text(0.5, 0, 'Survived'),\n",
       "  Text(1.5, 0, 'Pclass'),\n",
       "  Text(2.5, 0, 'Sex'),\n",
       "  Text(3.5, 0, 'Age'),\n",
       "  Text(4.5, 0, 'Fare'),\n",
       "  Text(5.5, 0, 'Embarked'),\n",
       "  Text(6.5, 0, 'Family'),\n",
       "  Text(7.5, 0, 'Title')])"
      ]
     },
     "execution_count": 20,
     "metadata": {},
     "output_type": "execute_result"
    },
    {
     "data": {
      "image/png": "[encoded data removed]",
      "text/plain": [
       "<Figure size 864x360 with 2 Axes>"
      ]
     },
     "metadata": {
      "needs_background": "light"
     },
     "output_type": "display_data"
    }
   ],
   "source": [
    "#correlation matrix and the heatmap\n",
    "plt.subplots(figsize=(12,5))\n",
    "correlation=abs(df.corr())\n",
    "sns.heatmap(correlation,annot=True,cmap='RdPu')\n",
    "plt.title('Correlation between the variables')\n",
    "plt.xticks(rotation=45)"
   ]
  },
  {
   "cell_type": "markdown",
   "id": "158f3e18",
   "metadata": {
    "papermill": {
     "duration": 0.051942,
     "end_time": "2022-04-13T15:07:28.253397",
     "exception": false,
     "start_time": "2022-04-13T15:07:28.201455",
     "status": "completed"
    },
    "tags": []
   },
   "source": [
    "Surprisingly, Age looks completely irrelevant to the passenger's survivability. I'll create several dataframes, including more or less attributes, by order or correlation with the survivability."
   ]
  },
  {
   "cell_type": "code",
   "execution_count": 21,
   "id": "43743fb9",
   "metadata": {
    "execution": {
     "iopub.execute_input": "2022-04-13T15:07:28.359542Z",
     "iopub.status.busy": "2022-04-13T15:07:28.359121Z",
     "iopub.status.idle": "2022-04-13T15:07:28.371363Z",
     "shell.execute_reply": "2022-04-13T15:07:28.370445Z"
    },
    "papermill": {
     "duration": 0.068771,
     "end_time": "2022-04-13T15:07:28.373724",
     "exception": false,
     "start_time": "2022-04-13T15:07:28.304953",
     "status": "completed"
    },
    "tags": []
   },
   "outputs": [],
   "source": [
    "y_train = df['Survived'].values\n",
    "df1 = df.drop(['Survived'], axis=1)\n",
    "df2 = df.drop(['Survived', 'Age'], axis=1)\n",
    "df3 = df.drop(['Survived', 'Age', 'Embarked'], axis=1)\n",
    "df4 = df.drop(['Survived', 'Age', 'Embarked', 'Family'], axis=1)\n",
    "df4 = df.drop(['Survived', 'Age', 'Embarked', 'Family', 'Fare'], axis=1)\n",
    "df5 = df.drop(['Survived', 'Age', 'Embarked', 'Family', 'Fare', 'Pclass'], axis=1)\n",
    "df6 = df.drop(['Survived', 'Age', 'Embarked', 'Family', 'Fare', 'Pclass', 'Title'], axis=1)\n",
    "df_list = [df1, df2, df3, df4, df5, df6]"
   ]
  },
  {
   "cell_type": "markdown",
   "id": "cc56ba8d",
   "metadata": {
    "papermill": {
     "duration": 0.051132,
     "end_time": "2022-04-13T15:07:28.476237",
     "exception": false,
     "start_time": "2022-04-13T15:07:28.425105",
     "status": "completed"
    },
    "tags": []
   },
   "source": [
    "# Machine Learning modeling\n",
    "I'll opt for a Logistic Regression algorithm, with optimization of the hyperparameters via GridSearchCV.\n",
    "\n",
    "I'll also keep the accuracy of the Grid Search for each of the different data frames."
   ]
  },
  {
   "cell_type": "code",
   "execution_count": 22,
   "id": "95d4033a",
   "metadata": {
    "execution": {
     "iopub.execute_input": "2022-04-13T15:07:28.584343Z",
     "iopub.status.busy": "2022-04-13T15:07:28.584071Z",
     "iopub.status.idle": "2022-04-13T15:07:30.298808Z",
     "shell.execute_reply": "2022-04-13T15:07:30.297709Z"
    },
    "papermill": {
     "duration": 1.770675,
     "end_time": "2022-04-13T15:07:30.301147",
     "exception": false,
     "start_time": "2022-04-13T15:07:28.530472",
     "status": "completed"
    },
    "tags": []
   },
   "outputs": [
    {
     "name": "stdout",
     "output_type": "stream",
     "text": [
      "[[0, {'C': 1, 'penalty': 'l1', 'solver': 'liblinear'}], [1, {'C': 0.1, 'penalty': 'l2', 'solver': 'liblinear'}], [2, {'C': 1, 'penalty': 'l1', 'solver': 'liblinear'}], [3, {'C': 0.1, 'penalty': 'l2', 'solver': 'liblinear'}], [4, {'C': 0.1, 'penalty': 'l1', 'solver': 'liblinear'}], [5, {'C': 0.1, 'penalty': 'l1', 'solver': 'liblinear'}]] \n",
      " [[0, 0.8080774032459426], [1, 0.7968539325842696], [2, 0.7822471910112359], [3, 0.7889762796504369], [4, 0.7755056179775281], [5, 0.786729088639201]]\n"
     ]
    }
   ],
   "source": [
    "param_logreg={'C': [0.1, 1, 10, 100, 1000],\n",
    "              'penalty': ['l1', 'l2'],\n",
    "              'solver': ['liblinear']}\n",
    "best_params = []\n",
    "best_score = []\n",
    "\n",
    "for i, X_train in enumerate(df_list):\n",
    "    logreg_cv=GridSearchCV(LogisticRegression(), param_logreg, cv=10, scoring='accuracy')\n",
    "    logreg_cv.fit(X_train.values, y_train)\n",
    "    best_params.append([i, logreg_cv.best_params_])\n",
    "    best_score.append([i, logreg_cv.best_score_])\n",
    "    \n",
    "print(best_params, '\\n', best_score)"
   ]
  },
  {
   "cell_type": "markdown",
   "id": "fa644ba6",
   "metadata": {
    "papermill": {
     "duration": 0.052007,
     "end_time": "2022-04-13T15:07:30.405724",
     "exception": false,
     "start_time": "2022-04-13T15:07:30.353717",
     "status": "completed"
    },
    "tags": []
   },
   "source": [
    "So, the best was an 80.8% of accuracy, which is disapointing. I'll go through the other algorithms, KNN, Decision Tree, and SVM."
   ]
  },
  {
   "cell_type": "code",
   "execution_count": 23,
   "id": "d4341fd7",
   "metadata": {
    "execution": {
     "iopub.execute_input": "2022-04-13T15:07:30.515182Z",
     "iopub.status.busy": "2022-04-13T15:07:30.514157Z",
     "iopub.status.idle": "2022-04-13T15:08:14.212006Z",
     "shell.execute_reply": "2022-04-13T15:08:14.211097Z"
    },
    "papermill": {
     "duration": 43.811791,
     "end_time": "2022-04-13T15:08:14.270381",
     "exception": false,
     "start_time": "2022-04-13T15:07:30.458590",
     "status": "completed"
    },
    "tags": []
   },
   "outputs": [
    {
     "name": "stdout",
     "output_type": "stream",
     "text": [
      "[[0, {'algorithm': 'ball_tree', 'n_neighbors': 8}], [1, {'algorithm': 'brute', 'n_neighbors': 21}], [2, {'algorithm': 'auto', 'n_neighbors': 9}], [3, {'algorithm': 'brute', 'n_neighbors': 4}], [4, {'algorithm': 'auto', 'n_neighbors': 27}], [5, {'algorithm': 'auto', 'n_neighbors': 3}]] \n",
      " [[0, 0.8115106117353308], [1, 0.813732833957553], [2, 0.8103620474406992], [3, 0.8035830212234707], [4, 0.7901373283395754], [5, 0.786729088639201]]\n"
     ]
    }
   ],
   "source": [
    "k_range=list(range(1,30))\n",
    "param_knn=dict(n_neighbors = k_range, algorithm=['auto', 'ball_tree', 'kd_tree', 'brute'])\n",
    "best_params = []\n",
    "best_score = []\n",
    "\n",
    "for i, X_train in enumerate(df_list):\n",
    "    knn_cv=GridSearchCV(KNeighborsClassifier(), param_knn, cv=10, scoring='accuracy')\n",
    "    knn_cv.fit(X_train.values, y_train)\n",
    "    best_params.append([i, knn_cv.best_params_])\n",
    "    best_score.append([i, knn_cv.best_score_])\n",
    "    \n",
    "print(best_params, '\\n', best_score)"
   ]
  },
  {
   "cell_type": "markdown",
   "id": "36a8c8da",
   "metadata": {
    "papermill": {
     "duration": 0.051858,
     "end_time": "2022-04-13T15:08:14.374602",
     "exception": false,
     "start_time": "2022-04-13T15:08:14.322744",
     "status": "completed"
    },
    "tags": []
   },
   "source": [
    "Best accuracy was for df2, with a value of 81.4%"
   ]
  },
  {
   "cell_type": "code",
   "execution_count": 24,
   "id": "83cc7b62",
   "metadata": {
    "execution": {
     "iopub.execute_input": "2022-04-13T15:08:14.480379Z",
     "iopub.status.busy": "2022-04-13T15:08:14.480124Z",
     "iopub.status.idle": "2022-04-13T15:08:21.077208Z",
     "shell.execute_reply": "2022-04-13T15:08:21.076318Z"
    },
    "papermill": {
     "duration": 6.652549,
     "end_time": "2022-04-13T15:08:21.079308",
     "exception": false,
     "start_time": "2022-04-13T15:08:14.426759",
     "status": "completed"
    },
    "tags": []
   },
   "outputs": [
    {
     "name": "stdout",
     "output_type": "stream",
     "text": [
      "[[0, {'criterion': 'entropy', 'max_depth': 7, 'splitter': 'random'}], [1, {'criterion': 'gini', 'max_depth': 5, 'splitter': 'random'}], [2, {'criterion': 'entropy', 'max_depth': 6, 'splitter': 'random'}], [3, {'criterion': 'gini', 'max_depth': 5, 'splitter': 'best'}], [4, {'criterion': 'gini', 'max_depth': 4, 'splitter': 'best'}], [5, {'criterion': 'gini', 'max_depth': 4, 'splitter': 'best'}]] \n",
      " [[0, 0.813732833957553], [1, 0.8192883895131086], [2, 0.8069787765293382], [3, 0.7766791510611736], [4, 0.7935081148564295], [5, 0.786729088639201]]\n"
     ]
    }
   ],
   "source": [
    "param_tree={'criterion':['gini', 'entropy'], 'max_depth':[4,5,6,7,8,9,10,11,12,15,20,30,40,50,70,90,120,150], 'splitter':['best', 'random']}\n",
    "best_params = []\n",
    "best_score = []\n",
    "\n",
    "for i, X_train in enumerate(df_list):\n",
    "    tree_cv=GridSearchCV(DecisionTreeClassifier(), param_tree, cv=10, scoring='accuracy')\n",
    "    tree_cv.fit(X_train.values, y_train)\n",
    "    best_params.append([i, tree_cv.best_params_])\n",
    "    best_score.append([i, tree_cv.best_score_])\n",
    "    \n",
    "print(best_params, '\\n', best_score)"
   ]
  },
  {
   "cell_type": "markdown",
   "id": "9d2528d8",
   "metadata": {
    "papermill": {
     "duration": 0.05312,
     "end_time": "2022-04-13T15:08:21.185323",
     "exception": false,
     "start_time": "2022-04-13T15:08:21.132203",
     "status": "completed"
    },
    "tags": []
   },
   "source": [
    "Best result is 81.6%, still better than LogReg, tying it close with KNN."
   ]
  },
  {
   "cell_type": "code",
   "execution_count": 25,
   "id": "b466ed01",
   "metadata": {
    "execution": {
     "iopub.execute_input": "2022-04-13T15:08:21.292904Z",
     "iopub.status.busy": "2022-04-13T15:08:21.292631Z",
     "iopub.status.idle": "2022-04-13T15:09:05.179837Z",
     "shell.execute_reply": "2022-04-13T15:09:05.178801Z"
    },
    "papermill": {
     "duration": 43.99828,
     "end_time": "2022-04-13T15:09:05.236686",
     "exception": false,
     "start_time": "2022-04-13T15:08:21.238406",
     "status": "completed"
    },
    "tags": []
   },
   "outputs": [
    {
     "name": "stdout",
     "output_type": "stream",
     "text": [
      "[[0, {'C': 1000, 'gamma': 0.01, 'kernel': 'rbf'}], [1, {'C': 100, 'gamma': 0.01, 'kernel': 'rbf'}], [2, {'C': 1000, 'gamma': 0.01, 'kernel': 'rbf'}], [3, {'C': 100, 'gamma': 0.01, 'kernel': 'rbf'}], [4, {'C': 1, 'gamma': 1, 'kernel': 'rbf'}], [5, {'C': 0.1, 'gamma': 1, 'kernel': 'rbf'}]] \n",
      " [[0, 0.823820224719101], [1, 0.8204119850187265], [2, 0.8170162297128589], [3, 0.7968414481897628], [4, 0.7935081148564295], [5, 0.786729088639201]]\n"
     ]
    }
   ],
   "source": [
    "param_svm={'C': [0.1, 1, 10, 100, 1000],\n",
    "              'gamma': [1, 0.1, 0.01, 0.001, 0.0001],\n",
    "              'kernel': ['rbf']}\n",
    "best_params = []\n",
    "best_score = []\n",
    "\n",
    "for i, X_train in enumerate(df_list):\n",
    "    svm_cv=GridSearchCV(SVC(), param_svm, cv=10, scoring='accuracy')\n",
    "    svm_cv.fit(X_train.values, y_train)\n",
    "    best_params.append([i, svm_cv.best_params_])\n",
    "    best_score.append([i, svm_cv.best_score_])\n",
    "    \n",
    "print(best_params, '\\n', best_score)"
   ]
  },
  {
   "cell_type": "markdown",
   "id": "c4a74589",
   "metadata": {
    "papermill": {
     "duration": 0.052654,
     "end_time": "2022-04-13T15:09:05.342665",
     "exception": false,
     "start_time": "2022-04-13T15:09:05.290011",
     "status": "completed"
    },
    "tags": []
   },
   "source": [
    "And SVM with a maximum of 82.4%, which is the highest so far. I will now export CSV files respective to each of the algorithms best results, and after feeding it to Kaggle, will return with the accuracy in the test data."
   ]
  },
  {
   "cell_type": "markdown",
   "id": "03c5f7fc",
   "metadata": {
    "papermill": {
     "duration": 0.052839,
     "end_time": "2022-04-13T15:09:05.448805",
     "exception": false,
     "start_time": "2022-04-13T15:09:05.395966",
     "status": "completed"
    },
    "tags": []
   },
   "source": [
    "# CSV creation"
   ]
  },
  {
   "cell_type": "code",
   "execution_count": 26,
   "id": "d585196d",
   "metadata": {
    "execution": {
     "iopub.execute_input": "2022-04-13T15:09:05.556467Z",
     "iopub.status.busy": "2022-04-13T15:09:05.556189Z",
     "iopub.status.idle": "2022-04-13T15:09:05.788746Z",
     "shell.execute_reply": "2022-04-13T15:09:05.787691Z"
    },
    "papermill": {
     "duration": 0.289677,
     "end_time": "2022-04-13T15:09:05.791337",
     "exception": false,
     "start_time": "2022-04-13T15:09:05.501660",
     "status": "completed"
    },
    "tags": []
   },
   "outputs": [],
   "source": [
    "df1_test = df_test\n",
    "df2_test = df_test.drop(['Age'], axis=1)\n",
    "\n",
    "#KNN - df2, algorithm=brute, n_neighbors=21\n",
    "knn=KNeighborsClassifier(algorithm='ball_tree', n_neighbors=8)\n",
    "knn.fit(df1.values, y_train)\n",
    "yhat = knn.predict(df1_test.values)\n",
    "yhat=pd.Series(data=yhat)\n",
    "yhat=yhat.rename('Survived')\n",
    "result=pd.concat([test_data['PassengerId'], yhat], axis=1)\n",
    "result.to_csv('/kaggle/working/knn_df1.csv', index=False)\n",
    "\n",
    "#Tree - df1, criterion=entropy, max_depth=6, spliiter=random\n",
    "tree=DecisionTreeClassifier(criterion='entropy', max_depth=6, splitter='random')\n",
    "tree.fit(df1.values, y_train)\n",
    "yhat = tree.predict(df1_test.values)\n",
    "yhat=pd.Series(data=yhat)\n",
    "yhat=yhat.rename('Survived')\n",
    "result=pd.concat([test_data['PassengerId'], yhat], axis=1)\n",
    "result.to_csv('/kaggle/working/tree.csv', index=False)\n",
    "\n",
    "#Tree - df1, C=1000, gamma=0.01, kernel=rbf\n",
    "svm=SVC(C=1000, gamma=0.01, kernel='rbf')\n",
    "svm.fit(df1.values, y_train)\n",
    "yhat = svm.predict(df1_test.values)\n",
    "yhat=pd.Series(data=yhat)\n",
    "yhat=yhat.rename('Survived')\n",
    "result=pd.concat([test_data['PassengerId'], yhat], axis=1)\n",
    "result.to_csv('/kaggle/working/svm.csv', index=False)\n",
    "\n",
    "#LogReg - df1, C=1, penalty=l1, solver=liblinear\n",
    "logreg=LogisticRegression(C=1, penalty='l1', solver='liblinear')\n",
    "logreg.fit(df1.values, y_train)\n",
    "yhat = logreg.predict(df1_test.values)\n",
    "yhat=pd.Series(data=yhat)\n",
    "yhat=yhat.rename('Survived')\n",
    "result=pd.concat([test_data['PassengerId'], yhat], axis=1)\n",
    "result.to_csv('/kaggle/working/logreg.csv', index=False)"
   ]
  },
  {
   "cell_type": "markdown",
   "id": "324cccf6",
   "metadata": {
    "papermill": {
     "duration": 0.052775,
     "end_time": "2022-04-13T15:09:05.897443",
     "exception": false,
     "start_time": "2022-04-13T15:09:05.844668",
     "status": "completed"
    },
    "tags": []
   },
   "source": [
    "# Final Results\n",
    "\n",
    "After submission, I have obtained the following accuracy values:\n",
    "* KNN - 78.5%\n",
    "* Decision Tree - 77.8%\n",
    "* SVM - 78.5%\n",
    "* Logistic Regression - 77.8%\n",
    "\n",
    "The accuracy score of 78.5% put me at the position 2000, which I feel very happy about, since this is my first project.\n",
    "\n",
    "I have observed some of the higher scores, and they either go for Deep Learning approaches, or Random Tree Classifiers, which I know nothing about.\n",
    "\n",
    "This was my 3rd version of this challenge, and I feel like I have learned a lot, mostly about EDA and Feature Engineering.\n",
    "\n",
    "The 1st version was a simple one, which returned an accuracy of 76%, and my 2nd version envolved some Feature Engineering, but returned lower values than my 1st version.\n",
    "\n",
    "See you in the next project,\n",
    "\n",
    "Frederico Direito"
   ]
  }
 ],
 "metadata": {
  "kernelspec": {
   "display_name": "Python 3",
   "language": "python",
   "name": "python3"
  },
  "language_info": {
   "codemirror_mode": {
    "name": "ipython",
    "version": 3
   },
   "file_extension": ".py",
   "mimetype": "text/x-python",
   "name": "python",
   "nbconvert_exporter": "python",
   "pygments_lexer": "ipython3",
   "version": "3.7.12"
  },
  "papermill": {
   "default_parameters": {},
   "duration": 115.013774,
   "end_time": "2022-04-13T15:09:06.673343",
   "environment_variables": {},
   "exception": null,
   "input_path": "__notebook__.ipynb",
   "output_path": "__notebook__.ipynb",
   "parameters": {},
   "start_time": "2022-04-13T15:07:11.659569",
   "version": "2.3.4"
  }
 },
 "nbformat": 4,
 "nbformat_minor": 5
}
