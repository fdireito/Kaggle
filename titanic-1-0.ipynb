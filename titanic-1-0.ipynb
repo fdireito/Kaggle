{
 "cells": [
  {
   "cell_type": "code",
   "execution_count": 1,
   "id": "7bd73d63",
   "metadata": {
    "_cell_guid": "b1076dfc-b9ad-4769-8c92-a6c4dae69d19",
    "_uuid": "8f2839f25d086af736a60e9eeb907d3b93b6e0e5",
    "execution": {
     "iopub.execute_input": "2022-04-13T14:55:29.814416Z",
     "iopub.status.busy": "2022-04-13T14:55:29.813543Z",
     "iopub.status.idle": "2022-04-13T14:55:31.315503Z",
     "shell.execute_reply": "2022-04-13T14:55:31.314813Z",
     "shell.execute_reply.started": "2022-04-13T14:53:41.594181Z"
    },
    "papermill": {
     "duration": 1.546108,
     "end_time": "2022-04-13T14:55:31.315694",
     "exception": false,
     "start_time": "2022-04-13T14:55:29.769586",
     "status": "completed"
    },
    "tags": []
   },
   "outputs": [
    {
     "name": "stdout",
     "output_type": "stream",
     "text": [
      "/kaggle/input/titanic/train.csv\n",
      "/kaggle/input/titanic/test.csv\n",
      "/kaggle/input/titanic/gender_submission.csv\n"
     ]
    }
   ],
   "source": [
    "# This Python 3 environment comes with many helpful analytics libraries installed\n",
    "# It is defined by the kaggle/python Docker image: https://github.com/kaggle/docker-python\n",
    "# For example, here's several helpful packages to load\n",
    "\n",
    "import numpy as np # linear algebra\n",
    "import pandas as pd # data processing, CSV file I/O (e.g. pd.read_csv)\n",
    "import matplotlib.pyplot as plt\n",
    "import seaborn as sns\n",
    "import sklearn.tree as tree\n",
    "from sklearn import preprocessing\n",
    "from sklearn.neighbors import KNeighborsClassifier\n",
    "from sklearn.model_selection import GridSearchCV\n",
    "from sklearn.linear_model import LogisticRegression\n",
    "from sklearn.tree import DecisionTreeClassifier\n",
    "from sklearn.metrics import plot_confusion_matrix\n",
    "from sklearn.svm import SVC\n",
    "\n",
    "# Input data files are available in the read-only \"../input/\" directory\n",
    "# For example, running this (by clicking run or pressing Shift+Enter) will list all files under the input directory\n",
    "\n",
    "import os\n",
    "for dirname, _, filenames in os.walk('/kaggle/input'):\n",
    "    for filename in filenames:\n",
    "        print(os.path.join(dirname, filename))\n",
    "\n",
    "# You can write up to 20GB to the current directory (/kaggle/working/) that gets preserved as output when you create a version using \"Save & Run All\" \n",
    "# You can also write temporary files to /kaggle/temp/, but they won't be saved outside of the current session"
   ]
  },
  {
   "cell_type": "markdown",
   "id": "8efa185b",
   "metadata": {
    "papermill": {
     "duration": 0.033258,
     "end_time": "2022-04-13T14:55:31.385721",
     "exception": false,
     "start_time": "2022-04-13T14:55:31.352463",
     "status": "completed"
    },
    "tags": []
   },
   "source": [
    "# Loading the Data Sets"
   ]
  },
  {
   "cell_type": "markdown",
   "id": "e35095e6",
   "metadata": {
    "execution": {
     "iopub.execute_input": "2022-04-12T16:15:36.559802Z",
     "iopub.status.busy": "2022-04-12T16:15:36.559051Z",
     "iopub.status.idle": "2022-04-12T16:15:36.565913Z",
     "shell.execute_reply": "2022-04-12T16:15:36.564635Z",
     "shell.execute_reply.started": "2022-04-12T16:15:36.559763Z"
    },
    "papermill": {
     "duration": 0.034325,
     "end_time": "2022-04-13T14:55:31.456280",
     "exception": false,
     "start_time": "2022-04-13T14:55:31.421955",
     "status": "completed"
    },
    "tags": []
   },
   "source": [
    "/kaggle/input/titanic/train.csv\n",
    "\n",
    "/kaggle/input/titanic/test.csv\n",
    "\n",
    "/kaggle/input/titanic/gender_submission.csv"
   ]
  },
  {
   "cell_type": "code",
   "execution_count": 2,
   "id": "3d829784",
   "metadata": {
    "execution": {
     "iopub.execute_input": "2022-04-13T14:55:31.530874Z",
     "iopub.status.busy": "2022-04-13T14:55:31.530160Z",
     "iopub.status.idle": "2022-04-13T14:55:31.578871Z",
     "shell.execute_reply": "2022-04-13T14:55:31.578103Z",
     "shell.execute_reply.started": "2022-04-13T14:53:41.607933Z"
    },
    "papermill": {
     "duration": 0.088722,
     "end_time": "2022-04-13T14:55:31.579031",
     "exception": false,
     "start_time": "2022-04-13T14:55:31.490309",
     "status": "completed"
    },
    "tags": []
   },
   "outputs": [
    {
     "data": {
      "text/html": [
       "<div>\n",
       "<style scoped>\n",
       "    .dataframe tbody tr th:only-of-type {\n",
       "        vertical-align: middle;\n",
       "    }\n",
       "\n",
       "    .dataframe tbody tr th {\n",
       "        vertical-align: top;\n",
       "    }\n",
       "\n",
       "    .dataframe thead th {\n",
       "        text-align: right;\n",
       "    }\n",
       "</style>\n",
       "<table border=\"1\" class=\"dataframe\">\n",
       "  <thead>\n",
       "    <tr style=\"text-align: right;\">\n",
       "      <th></th>\n",
       "      <th>PassengerId</th>\n",
       "      <th>Survived</th>\n",
       "      <th>Pclass</th>\n",
       "      <th>Name</th>\n",
       "      <th>Sex</th>\n",
       "      <th>Age</th>\n",
       "      <th>SibSp</th>\n",
       "      <th>Parch</th>\n",
       "      <th>Ticket</th>\n",
       "      <th>Fare</th>\n",
       "      <th>Cabin</th>\n",
       "      <th>Embarked</th>\n",
       "    </tr>\n",
       "  </thead>\n",
       "  <tbody>\n",
       "    <tr>\n",
       "      <th>0</th>\n",
       "      <td>1</td>\n",
       "      <td>0</td>\n",
       "      <td>3</td>\n",
       "      <td>Braund, Mr. Owen Harris</td>\n",
       "      <td>male</td>\n",
       "      <td>22.0</td>\n",
       "      <td>1</td>\n",
       "      <td>0</td>\n",
       "      <td>A/5 21171</td>\n",
       "      <td>7.2500</td>\n",
       "      <td>NaN</td>\n",
       "      <td>S</td>\n",
       "    </tr>\n",
       "    <tr>\n",
       "      <th>1</th>\n",
       "      <td>2</td>\n",
       "      <td>1</td>\n",
       "      <td>1</td>\n",
       "      <td>Cumings, Mrs. John Bradley (Florence Briggs Th...</td>\n",
       "      <td>female</td>\n",
       "      <td>38.0</td>\n",
       "      <td>1</td>\n",
       "      <td>0</td>\n",
       "      <td>PC 17599</td>\n",
       "      <td>71.2833</td>\n",
       "      <td>C85</td>\n",
       "      <td>C</td>\n",
       "    </tr>\n",
       "    <tr>\n",
       "      <th>2</th>\n",
       "      <td>3</td>\n",
       "      <td>1</td>\n",
       "      <td>3</td>\n",
       "      <td>Heikkinen, Miss. Laina</td>\n",
       "      <td>female</td>\n",
       "      <td>26.0</td>\n",
       "      <td>0</td>\n",
       "      <td>0</td>\n",
       "      <td>STON/O2. 3101282</td>\n",
       "      <td>7.9250</td>\n",
       "      <td>NaN</td>\n",
       "      <td>S</td>\n",
       "    </tr>\n",
       "    <tr>\n",
       "      <th>3</th>\n",
       "      <td>4</td>\n",
       "      <td>1</td>\n",
       "      <td>1</td>\n",
       "      <td>Futrelle, Mrs. Jacques Heath (Lily May Peel)</td>\n",
       "      <td>female</td>\n",
       "      <td>35.0</td>\n",
       "      <td>1</td>\n",
       "      <td>0</td>\n",
       "      <td>113803</td>\n",
       "      <td>53.1000</td>\n",
       "      <td>C123</td>\n",
       "      <td>S</td>\n",
       "    </tr>\n",
       "    <tr>\n",
       "      <th>4</th>\n",
       "      <td>5</td>\n",
       "      <td>0</td>\n",
       "      <td>3</td>\n",
       "      <td>Allen, Mr. William Henry</td>\n",
       "      <td>male</td>\n",
       "      <td>35.0</td>\n",
       "      <td>0</td>\n",
       "      <td>0</td>\n",
       "      <td>373450</td>\n",
       "      <td>8.0500</td>\n",
       "      <td>NaN</td>\n",
       "      <td>S</td>\n",
       "    </tr>\n",
       "  </tbody>\n",
       "</table>\n",
       "</div>"
      ],
      "text/plain": [
       "   PassengerId  Survived  Pclass  \\\n",
       "0            1         0       3   \n",
       "1            2         1       1   \n",
       "2            3         1       3   \n",
       "3            4         1       1   \n",
       "4            5         0       3   \n",
       "\n",
       "                                                Name     Sex   Age  SibSp  \\\n",
       "0                            Braund, Mr. Owen Harris    male  22.0      1   \n",
       "1  Cumings, Mrs. John Bradley (Florence Briggs Th...  female  38.0      1   \n",
       "2                             Heikkinen, Miss. Laina  female  26.0      0   \n",
       "3       Futrelle, Mrs. Jacques Heath (Lily May Peel)  female  35.0      1   \n",
       "4                           Allen, Mr. William Henry    male  35.0      0   \n",
       "\n",
       "   Parch            Ticket     Fare Cabin Embarked  \n",
       "0      0         A/5 21171   7.2500   NaN        S  \n",
       "1      0          PC 17599  71.2833   C85        C  \n",
       "2      0  STON/O2. 3101282   7.9250   NaN        S  \n",
       "3      0            113803  53.1000  C123        S  \n",
       "4      0            373450   8.0500   NaN        S  "
      ]
     },
     "execution_count": 2,
     "metadata": {},
     "output_type": "execute_result"
    }
   ],
   "source": [
    "train_data = pd.read_csv('/kaggle/input/titanic/train.csv')  \n",
    "test_data = pd.read_csv('/kaggle/input/titanic/test.csv')\n",
    "train_data.head()"
   ]
  },
  {
   "cell_type": "markdown",
   "id": "b64f42ec",
   "metadata": {
    "papermill": {
     "duration": 0.036846,
     "end_time": "2022-04-13T14:55:31.650761",
     "exception": false,
     "start_time": "2022-04-13T14:55:31.613915",
     "status": "completed"
    },
    "tags": []
   },
   "source": [
    "# Splitting the Train Data into attributes and target variable"
   ]
  },
  {
   "cell_type": "markdown",
   "id": "d5f078c1",
   "metadata": {
    "papermill": {
     "duration": 0.03533,
     "end_time": "2022-04-13T14:55:31.723661",
     "exception": false,
     "start_time": "2022-04-13T14:55:31.688331",
     "status": "completed"
    },
    "tags": []
   },
   "source": [
    "First, we aggregate the attributes that seem influential to the Survivability of the subject on the X_train dataframe: their Sex, Age, the class of their ticket, and if they had any family on the boat.\n",
    "\n",
    "We also separate the Survived column to a different dataframe, as the target dataframe, y_train."
   ]
  },
  {
   "cell_type": "code",
   "execution_count": 3,
   "id": "09a6ce26",
   "metadata": {
    "execution": {
     "iopub.execute_input": "2022-04-13T14:55:31.800395Z",
     "iopub.status.busy": "2022-04-13T14:55:31.799714Z",
     "iopub.status.idle": "2022-04-13T14:55:31.821375Z",
     "shell.execute_reply": "2022-04-13T14:55:31.820786Z",
     "shell.execute_reply.started": "2022-04-13T14:53:41.652958Z"
    },
    "papermill": {
     "duration": 0.061759,
     "end_time": "2022-04-13T14:55:31.821534",
     "exception": false,
     "start_time": "2022-04-13T14:55:31.759775",
     "status": "completed"
    },
    "tags": []
   },
   "outputs": [
    {
     "data": {
      "text/html": [
       "<div>\n",
       "<style scoped>\n",
       "    .dataframe tbody tr th:only-of-type {\n",
       "        vertical-align: middle;\n",
       "    }\n",
       "\n",
       "    .dataframe tbody tr th {\n",
       "        vertical-align: top;\n",
       "    }\n",
       "\n",
       "    .dataframe thead th {\n",
       "        text-align: right;\n",
       "    }\n",
       "</style>\n",
       "<table border=\"1\" class=\"dataframe\">\n",
       "  <thead>\n",
       "    <tr style=\"text-align: right;\">\n",
       "      <th></th>\n",
       "      <th>Sex</th>\n",
       "      <th>Age</th>\n",
       "      <th>Pclass</th>\n",
       "      <th>SibSp</th>\n",
       "      <th>Parch</th>\n",
       "    </tr>\n",
       "  </thead>\n",
       "  <tbody>\n",
       "    <tr>\n",
       "      <th>0</th>\n",
       "      <td>male</td>\n",
       "      <td>22.0</td>\n",
       "      <td>3</td>\n",
       "      <td>1</td>\n",
       "      <td>0</td>\n",
       "    </tr>\n",
       "    <tr>\n",
       "      <th>1</th>\n",
       "      <td>female</td>\n",
       "      <td>38.0</td>\n",
       "      <td>1</td>\n",
       "      <td>1</td>\n",
       "      <td>0</td>\n",
       "    </tr>\n",
       "    <tr>\n",
       "      <th>2</th>\n",
       "      <td>female</td>\n",
       "      <td>26.0</td>\n",
       "      <td>3</td>\n",
       "      <td>0</td>\n",
       "      <td>0</td>\n",
       "    </tr>\n",
       "    <tr>\n",
       "      <th>3</th>\n",
       "      <td>female</td>\n",
       "      <td>35.0</td>\n",
       "      <td>1</td>\n",
       "      <td>1</td>\n",
       "      <td>0</td>\n",
       "    </tr>\n",
       "    <tr>\n",
       "      <th>4</th>\n",
       "      <td>male</td>\n",
       "      <td>35.0</td>\n",
       "      <td>3</td>\n",
       "      <td>0</td>\n",
       "      <td>0</td>\n",
       "    </tr>\n",
       "  </tbody>\n",
       "</table>\n",
       "</div>"
      ],
      "text/plain": [
       "      Sex   Age  Pclass  SibSp  Parch\n",
       "0    male  22.0       3      1      0\n",
       "1  female  38.0       1      1      0\n",
       "2  female  26.0       3      0      0\n",
       "3  female  35.0       1      1      0\n",
       "4    male  35.0       3      0      0"
      ]
     },
     "execution_count": 3,
     "metadata": {},
     "output_type": "execute_result"
    }
   ],
   "source": [
    "X_train = train_data[['Sex', 'Age', 'Pclass', 'SibSp', 'Parch']]\n",
    "y_train = train_data[['Survived']]\n",
    "X_train.head()"
   ]
  },
  {
   "cell_type": "markdown",
   "id": "66975648",
   "metadata": {
    "papermill": {
     "duration": 0.036083,
     "end_time": "2022-04-13T14:55:31.892723",
     "exception": false,
     "start_time": "2022-04-13T14:55:31.856640",
     "status": "completed"
    },
    "tags": []
   },
   "source": [
    "The Sex column is currently categorical, as it only possesses 2 values (male or female), it is changed into a binary column.\n",
    "\n",
    "At the same time, information about the X_train dataframe is obtained through the describe() method."
   ]
  },
  {
   "cell_type": "code",
   "execution_count": 4,
   "id": "4e08bbc1",
   "metadata": {
    "execution": {
     "iopub.execute_input": "2022-04-13T14:55:31.975409Z",
     "iopub.status.busy": "2022-04-13T14:55:31.974417Z",
     "iopub.status.idle": "2022-04-13T14:55:32.012572Z",
     "shell.execute_reply": "2022-04-13T14:55:32.013115Z",
     "shell.execute_reply.started": "2022-04-13T14:53:41.671756Z"
    },
    "papermill": {
     "duration": 0.083613,
     "end_time": "2022-04-13T14:55:32.013286",
     "exception": false,
     "start_time": "2022-04-13T14:55:31.929673",
     "status": "completed"
    },
    "tags": []
   },
   "outputs": [
    {
     "name": "stderr",
     "output_type": "stream",
     "text": [
      "/opt/conda/lib/python3.7/site-packages/pandas/core/generic.py:6619: SettingWithCopyWarning: \n",
      "A value is trying to be set on a copy of a slice from a DataFrame\n",
      "\n",
      "See the caveats in the documentation: https://pandas.pydata.org/pandas-docs/stable/user_guide/indexing.html#returning-a-view-versus-a-copy\n",
      "  return self._update_inplace(result)\n"
     ]
    },
    {
     "data": {
      "text/html": [
       "<div>\n",
       "<style scoped>\n",
       "    .dataframe tbody tr th:only-of-type {\n",
       "        vertical-align: middle;\n",
       "    }\n",
       "\n",
       "    .dataframe tbody tr th {\n",
       "        vertical-align: top;\n",
       "    }\n",
       "\n",
       "    .dataframe thead th {\n",
       "        text-align: right;\n",
       "    }\n",
       "</style>\n",
       "<table border=\"1\" class=\"dataframe\">\n",
       "  <thead>\n",
       "    <tr style=\"text-align: right;\">\n",
       "      <th></th>\n",
       "      <th>Sex</th>\n",
       "      <th>Age</th>\n",
       "      <th>Pclass</th>\n",
       "      <th>SibSp</th>\n",
       "      <th>Parch</th>\n",
       "    </tr>\n",
       "  </thead>\n",
       "  <tbody>\n",
       "    <tr>\n",
       "      <th>count</th>\n",
       "      <td>891.000000</td>\n",
       "      <td>714.000000</td>\n",
       "      <td>891.000000</td>\n",
       "      <td>891.000000</td>\n",
       "      <td>891.000000</td>\n",
       "    </tr>\n",
       "    <tr>\n",
       "      <th>mean</th>\n",
       "      <td>0.352413</td>\n",
       "      <td>29.699118</td>\n",
       "      <td>2.308642</td>\n",
       "      <td>0.523008</td>\n",
       "      <td>0.381594</td>\n",
       "    </tr>\n",
       "    <tr>\n",
       "      <th>std</th>\n",
       "      <td>0.477990</td>\n",
       "      <td>14.526497</td>\n",
       "      <td>0.836071</td>\n",
       "      <td>1.102743</td>\n",
       "      <td>0.806057</td>\n",
       "    </tr>\n",
       "    <tr>\n",
       "      <th>min</th>\n",
       "      <td>0.000000</td>\n",
       "      <td>0.420000</td>\n",
       "      <td>1.000000</td>\n",
       "      <td>0.000000</td>\n",
       "      <td>0.000000</td>\n",
       "    </tr>\n",
       "    <tr>\n",
       "      <th>25%</th>\n",
       "      <td>0.000000</td>\n",
       "      <td>20.125000</td>\n",
       "      <td>2.000000</td>\n",
       "      <td>0.000000</td>\n",
       "      <td>0.000000</td>\n",
       "    </tr>\n",
       "    <tr>\n",
       "      <th>50%</th>\n",
       "      <td>0.000000</td>\n",
       "      <td>28.000000</td>\n",
       "      <td>3.000000</td>\n",
       "      <td>0.000000</td>\n",
       "      <td>0.000000</td>\n",
       "    </tr>\n",
       "    <tr>\n",
       "      <th>75%</th>\n",
       "      <td>1.000000</td>\n",
       "      <td>38.000000</td>\n",
       "      <td>3.000000</td>\n",
       "      <td>1.000000</td>\n",
       "      <td>0.000000</td>\n",
       "    </tr>\n",
       "    <tr>\n",
       "      <th>max</th>\n",
       "      <td>1.000000</td>\n",
       "      <td>80.000000</td>\n",
       "      <td>3.000000</td>\n",
       "      <td>8.000000</td>\n",
       "      <td>6.000000</td>\n",
       "    </tr>\n",
       "  </tbody>\n",
       "</table>\n",
       "</div>"
      ],
      "text/plain": [
       "              Sex         Age      Pclass       SibSp       Parch\n",
       "count  891.000000  714.000000  891.000000  891.000000  891.000000\n",
       "mean     0.352413   29.699118    2.308642    0.523008    0.381594\n",
       "std      0.477990   14.526497    0.836071    1.102743    0.806057\n",
       "min      0.000000    0.420000    1.000000    0.000000    0.000000\n",
       "25%      0.000000   20.125000    2.000000    0.000000    0.000000\n",
       "50%      0.000000   28.000000    3.000000    0.000000    0.000000\n",
       "75%      1.000000   38.000000    3.000000    1.000000    0.000000\n",
       "max      1.000000   80.000000    3.000000    8.000000    6.000000"
      ]
     },
     "execution_count": 4,
     "metadata": {},
     "output_type": "execute_result"
    }
   ],
   "source": [
    "X_train['Sex'].replace(to_replace=['male','female'], value=[0,1],inplace=True)\n",
    "X_train.describe()"
   ]
  },
  {
   "cell_type": "markdown",
   "id": "1fef4cb8",
   "metadata": {
    "papermill": {
     "duration": 0.036962,
     "end_time": "2022-04-13T14:55:32.088989",
     "exception": false,
     "start_time": "2022-04-13T14:55:32.052027",
     "status": "completed"
    },
    "tags": []
   },
   "source": [
    "It is noticeable the count of the Age variable is lower, this means there are missing values, as comproved by the following operation."
   ]
  },
  {
   "cell_type": "code",
   "execution_count": 5,
   "id": "c4ee3977",
   "metadata": {
    "execution": {
     "iopub.execute_input": "2022-04-13T14:55:32.166171Z",
     "iopub.status.busy": "2022-04-13T14:55:32.163717Z",
     "iopub.status.idle": "2022-04-13T14:55:32.172457Z",
     "shell.execute_reply": "2022-04-13T14:55:32.173070Z",
     "shell.execute_reply.started": "2022-04-13T14:53:41.709093Z"
    },
    "papermill": {
     "duration": 0.04819,
     "end_time": "2022-04-13T14:55:32.173248",
     "exception": false,
     "start_time": "2022-04-13T14:55:32.125058",
     "status": "completed"
    },
    "tags": []
   },
   "outputs": [
    {
     "data": {
      "text/plain": [
       "Sex         0\n",
       "Age       177\n",
       "Pclass      0\n",
       "SibSp       0\n",
       "Parch       0\n",
       "dtype: int64"
      ]
     },
     "execution_count": 5,
     "metadata": {},
     "output_type": "execute_result"
    }
   ],
   "source": [
    "pd.isna(X_train).sum()"
   ]
  },
  {
   "cell_type": "markdown",
   "id": "4ad3bab5",
   "metadata": {
    "papermill": {
     "duration": 0.038963,
     "end_time": "2022-04-13T14:55:32.250220",
     "exception": false,
     "start_time": "2022-04-13T14:55:32.211257",
     "status": "completed"
    },
    "tags": []
   },
   "source": [
    "There are a total of 177 missing values from the Age column.\n",
    "\n",
    "Instead of dropping the rows in which the variable is missing, we insert the mean of the column in the missing rows."
   ]
  },
  {
   "cell_type": "code",
   "execution_count": 6,
   "id": "12980af5",
   "metadata": {
    "execution": {
     "iopub.execute_input": "2022-04-13T14:55:32.333372Z",
     "iopub.status.busy": "2022-04-13T14:55:32.330189Z",
     "iopub.status.idle": "2022-04-13T14:55:32.366644Z",
     "shell.execute_reply": "2022-04-13T14:55:32.367153Z",
     "shell.execute_reply.started": "2022-04-13T14:53:41.719482Z"
    },
    "papermill": {
     "duration": 0.077095,
     "end_time": "2022-04-13T14:55:32.367322",
     "exception": false,
     "start_time": "2022-04-13T14:55:32.290227",
     "status": "completed"
    },
    "tags": []
   },
   "outputs": [
    {
     "name": "stderr",
     "output_type": "stream",
     "text": [
      "/opt/conda/lib/python3.7/site-packages/pandas/core/frame.py:5182: SettingWithCopyWarning: \n",
      "A value is trying to be set on a copy of a slice from a DataFrame\n",
      "\n",
      "See the caveats in the documentation: https://pandas.pydata.org/pandas-docs/stable/user_guide/indexing.html#returning-a-view-versus-a-copy\n",
      "  downcast=downcast,\n"
     ]
    },
    {
     "data": {
      "text/html": [
       "<div>\n",
       "<style scoped>\n",
       "    .dataframe tbody tr th:only-of-type {\n",
       "        vertical-align: middle;\n",
       "    }\n",
       "\n",
       "    .dataframe tbody tr th {\n",
       "        vertical-align: top;\n",
       "    }\n",
       "\n",
       "    .dataframe thead th {\n",
       "        text-align: right;\n",
       "    }\n",
       "</style>\n",
       "<table border=\"1\" class=\"dataframe\">\n",
       "  <thead>\n",
       "    <tr style=\"text-align: right;\">\n",
       "      <th></th>\n",
       "      <th>Sex</th>\n",
       "      <th>Age</th>\n",
       "      <th>Pclass</th>\n",
       "      <th>SibSp</th>\n",
       "      <th>Parch</th>\n",
       "    </tr>\n",
       "  </thead>\n",
       "  <tbody>\n",
       "    <tr>\n",
       "      <th>count</th>\n",
       "      <td>891.000000</td>\n",
       "      <td>891.000000</td>\n",
       "      <td>891.000000</td>\n",
       "      <td>891.000000</td>\n",
       "      <td>891.000000</td>\n",
       "    </tr>\n",
       "    <tr>\n",
       "      <th>mean</th>\n",
       "      <td>0.352413</td>\n",
       "      <td>29.699118</td>\n",
       "      <td>2.308642</td>\n",
       "      <td>0.523008</td>\n",
       "      <td>0.381594</td>\n",
       "    </tr>\n",
       "    <tr>\n",
       "      <th>std</th>\n",
       "      <td>0.477990</td>\n",
       "      <td>13.002015</td>\n",
       "      <td>0.836071</td>\n",
       "      <td>1.102743</td>\n",
       "      <td>0.806057</td>\n",
       "    </tr>\n",
       "    <tr>\n",
       "      <th>min</th>\n",
       "      <td>0.000000</td>\n",
       "      <td>0.420000</td>\n",
       "      <td>1.000000</td>\n",
       "      <td>0.000000</td>\n",
       "      <td>0.000000</td>\n",
       "    </tr>\n",
       "    <tr>\n",
       "      <th>25%</th>\n",
       "      <td>0.000000</td>\n",
       "      <td>22.000000</td>\n",
       "      <td>2.000000</td>\n",
       "      <td>0.000000</td>\n",
       "      <td>0.000000</td>\n",
       "    </tr>\n",
       "    <tr>\n",
       "      <th>50%</th>\n",
       "      <td>0.000000</td>\n",
       "      <td>29.699118</td>\n",
       "      <td>3.000000</td>\n",
       "      <td>0.000000</td>\n",
       "      <td>0.000000</td>\n",
       "    </tr>\n",
       "    <tr>\n",
       "      <th>75%</th>\n",
       "      <td>1.000000</td>\n",
       "      <td>35.000000</td>\n",
       "      <td>3.000000</td>\n",
       "      <td>1.000000</td>\n",
       "      <td>0.000000</td>\n",
       "    </tr>\n",
       "    <tr>\n",
       "      <th>max</th>\n",
       "      <td>1.000000</td>\n",
       "      <td>80.000000</td>\n",
       "      <td>3.000000</td>\n",
       "      <td>8.000000</td>\n",
       "      <td>6.000000</td>\n",
       "    </tr>\n",
       "  </tbody>\n",
       "</table>\n",
       "</div>"
      ],
      "text/plain": [
       "              Sex         Age      Pclass       SibSp       Parch\n",
       "count  891.000000  891.000000  891.000000  891.000000  891.000000\n",
       "mean     0.352413   29.699118    2.308642    0.523008    0.381594\n",
       "std      0.477990   13.002015    0.836071    1.102743    0.806057\n",
       "min      0.000000    0.420000    1.000000    0.000000    0.000000\n",
       "25%      0.000000   22.000000    2.000000    0.000000    0.000000\n",
       "50%      0.000000   29.699118    3.000000    0.000000    0.000000\n",
       "75%      1.000000   35.000000    3.000000    1.000000    0.000000\n",
       "max      1.000000   80.000000    3.000000    8.000000    6.000000"
      ]
     },
     "execution_count": 6,
     "metadata": {},
     "output_type": "execute_result"
    }
   ],
   "source": [
    "X_train.fillna(X_train['Age'].mean(), inplace=True)\n",
    "X_train.describe()"
   ]
  },
  {
   "cell_type": "markdown",
   "id": "84ed234a",
   "metadata": {
    "papermill": {
     "duration": 0.039292,
     "end_time": "2022-04-13T14:55:32.446126",
     "exception": false,
     "start_time": "2022-04-13T14:55:32.406834",
     "status": "completed"
    },
    "tags": []
   },
   "source": [
    "Now that the missing values are gone, we evaluate the correlation between each selected attribute and the target variable"
   ]
  },
  {
   "cell_type": "code",
   "execution_count": 7,
   "id": "72526bd8",
   "metadata": {
    "execution": {
     "iopub.execute_input": "2022-04-13T14:55:32.528858Z",
     "iopub.status.busy": "2022-04-13T14:55:32.528079Z",
     "iopub.status.idle": "2022-04-13T14:55:33.005234Z",
     "shell.execute_reply": "2022-04-13T14:55:33.004581Z",
     "shell.execute_reply.started": "2022-04-13T14:53:41.758064Z"
    },
    "papermill": {
     "duration": 0.520103,
     "end_time": "2022-04-13T14:55:33.005411",
     "exception": false,
     "start_time": "2022-04-13T14:55:32.485308",
     "status": "completed"
    },
    "tags": []
   },
   "outputs": [
    {
     "data": {
      "text/plain": [
       "(array([0.5, 1.5, 2.5, 3.5, 4.5, 5.5]),\n",
       " [Text(0.5, 0, 'Sex'),\n",
       "  Text(1.5, 0, 'Age'),\n",
       "  Text(2.5, 0, 'Pclass'),\n",
       "  Text(3.5, 0, 'SibSp'),\n",
       "  Text(4.5, 0, 'Parch'),\n",
       "  Text(5.5, 0, 'Survived')])"
      ]
     },
     "execution_count": 7,
     "metadata": {},
     "output_type": "execute_result"
    },
    {
     "data": {
      "image/png": "[encoded data removed]",
      "text/plain": [
       "<Figure size 864x360 with 2 Axes>"
      ]
     },
     "metadata": {
      "needs_background": "light"
     },
     "output_type": "display_data"
    }
   ],
   "source": [
    "#correlation matrix and the heatmap\n",
    "heatmap_df = pd.concat([X_train, y_train], axis=1)\n",
    "plt.subplots(figsize=(12,5))\n",
    "correlation=abs(heatmap_df.corr())\n",
    "sns.heatmap(correlation,annot=True,cmap='RdPu')\n",
    "plt.title('Correlation between the variables')\n",
    "plt.xticks(rotation=45)"
   ]
  },
  {
   "cell_type": "markdown",
   "id": "33e36be8",
   "metadata": {
    "papermill": {
     "duration": 0.040137,
     "end_time": "2022-04-13T14:55:33.087012",
     "exception": false,
     "start_time": "2022-04-13T14:55:33.046875",
     "status": "completed"
    },
    "tags": []
   },
   "source": [
    "At face value, we can conclude that only 2 attributes affect the survivability of the passenger, their Sex and the class of their ticket.\n",
    "\n",
    "As such, for a first iteration, we'll eliminate all variables but the Sex and the ticket class."
   ]
  },
  {
   "cell_type": "code",
   "execution_count": 8,
   "id": "d755aa4f",
   "metadata": {
    "execution": {
     "iopub.execute_input": "2022-04-13T14:55:33.180571Z",
     "iopub.status.busy": "2022-04-13T14:55:33.179130Z",
     "iopub.status.idle": "2022-04-13T14:55:33.189072Z",
     "shell.execute_reply": "2022-04-13T14:55:33.189643Z",
     "shell.execute_reply.started": "2022-04-13T14:53:42.231677Z"
    },
    "papermill": {
     "duration": 0.06206,
     "end_time": "2022-04-13T14:55:33.189839",
     "exception": false,
     "start_time": "2022-04-13T14:55:33.127779",
     "status": "completed"
    },
    "tags": []
   },
   "outputs": [
    {
     "name": "stderr",
     "output_type": "stream",
     "text": [
      "/opt/conda/lib/python3.7/site-packages/pandas/core/generic.py:6619: SettingWithCopyWarning: \n",
      "A value is trying to be set on a copy of a slice from a DataFrame\n",
      "\n",
      "See the caveats in the documentation: https://pandas.pydata.org/pandas-docs/stable/user_guide/indexing.html#returning-a-view-versus-a-copy\n",
      "  return self._update_inplace(result)\n"
     ]
    },
    {
     "data": {
      "text/html": [
       "<div>\n",
       "<style scoped>\n",
       "    .dataframe tbody tr th:only-of-type {\n",
       "        vertical-align: middle;\n",
       "    }\n",
       "\n",
       "    .dataframe tbody tr th {\n",
       "        vertical-align: top;\n",
       "    }\n",
       "\n",
       "    .dataframe thead th {\n",
       "        text-align: right;\n",
       "    }\n",
       "</style>\n",
       "<table border=\"1\" class=\"dataframe\">\n",
       "  <thead>\n",
       "    <tr style=\"text-align: right;\">\n",
       "      <th></th>\n",
       "      <th>Sex</th>\n",
       "      <th>Pclass</th>\n",
       "    </tr>\n",
       "  </thead>\n",
       "  <tbody>\n",
       "    <tr>\n",
       "      <th>0</th>\n",
       "      <td>0</td>\n",
       "      <td>3</td>\n",
       "    </tr>\n",
       "    <tr>\n",
       "      <th>1</th>\n",
       "      <td>1</td>\n",
       "      <td>1</td>\n",
       "    </tr>\n",
       "    <tr>\n",
       "      <th>2</th>\n",
       "      <td>1</td>\n",
       "      <td>3</td>\n",
       "    </tr>\n",
       "    <tr>\n",
       "      <th>3</th>\n",
       "      <td>1</td>\n",
       "      <td>1</td>\n",
       "    </tr>\n",
       "    <tr>\n",
       "      <th>4</th>\n",
       "      <td>0</td>\n",
       "      <td>3</td>\n",
       "    </tr>\n",
       "  </tbody>\n",
       "</table>\n",
       "</div>"
      ],
      "text/plain": [
       "   Sex  Pclass\n",
       "0    0       3\n",
       "1    1       1\n",
       "2    1       3\n",
       "3    1       1\n",
       "4    0       3"
      ]
     },
     "execution_count": 8,
     "metadata": {},
     "output_type": "execute_result"
    }
   ],
   "source": [
    "X_train = train_data[['Sex', 'Pclass']]\n",
    "X_train['Sex'].replace(to_replace=['male','female'], value=[0,1],inplace=True)\n",
    "X_train.head()"
   ]
  },
  {
   "cell_type": "code",
   "execution_count": 9,
   "id": "227f200d",
   "metadata": {
    "execution": {
     "iopub.execute_input": "2022-04-13T14:55:33.276405Z",
     "iopub.status.busy": "2022-04-13T14:55:33.275268Z",
     "iopub.status.idle": "2022-04-13T14:55:33.290065Z",
     "shell.execute_reply": "2022-04-13T14:55:33.290831Z",
     "shell.execute_reply.started": "2022-04-13T14:53:42.247483Z"
    },
    "papermill": {
     "duration": 0.059175,
     "end_time": "2022-04-13T14:55:33.291070",
     "exception": false,
     "start_time": "2022-04-13T14:55:33.231895",
     "status": "completed"
    },
    "tags": []
   },
   "outputs": [
    {
     "name": "stderr",
     "output_type": "stream",
     "text": [
      "/opt/conda/lib/python3.7/site-packages/pandas/core/generic.py:6619: SettingWithCopyWarning: \n",
      "A value is trying to be set on a copy of a slice from a DataFrame\n",
      "\n",
      "See the caveats in the documentation: https://pandas.pydata.org/pandas-docs/stable/user_guide/indexing.html#returning-a-view-versus-a-copy\n",
      "  return self._update_inplace(result)\n"
     ]
    },
    {
     "data": {
      "text/html": [
       "<div>\n",
       "<style scoped>\n",
       "    .dataframe tbody tr th:only-of-type {\n",
       "        vertical-align: middle;\n",
       "    }\n",
       "\n",
       "    .dataframe tbody tr th {\n",
       "        vertical-align: top;\n",
       "    }\n",
       "\n",
       "    .dataframe thead th {\n",
       "        text-align: right;\n",
       "    }\n",
       "</style>\n",
       "<table border=\"1\" class=\"dataframe\">\n",
       "  <thead>\n",
       "    <tr style=\"text-align: right;\">\n",
       "      <th></th>\n",
       "      <th>Sex</th>\n",
       "      <th>Pclass</th>\n",
       "    </tr>\n",
       "  </thead>\n",
       "  <tbody>\n",
       "    <tr>\n",
       "      <th>0</th>\n",
       "      <td>0</td>\n",
       "      <td>3</td>\n",
       "    </tr>\n",
       "    <tr>\n",
       "      <th>1</th>\n",
       "      <td>1</td>\n",
       "      <td>3</td>\n",
       "    </tr>\n",
       "    <tr>\n",
       "      <th>2</th>\n",
       "      <td>0</td>\n",
       "      <td>2</td>\n",
       "    </tr>\n",
       "    <tr>\n",
       "      <th>3</th>\n",
       "      <td>0</td>\n",
       "      <td>3</td>\n",
       "    </tr>\n",
       "    <tr>\n",
       "      <th>4</th>\n",
       "      <td>1</td>\n",
       "      <td>3</td>\n",
       "    </tr>\n",
       "  </tbody>\n",
       "</table>\n",
       "</div>"
      ],
      "text/plain": [
       "   Sex  Pclass\n",
       "0    0       3\n",
       "1    1       3\n",
       "2    0       2\n",
       "3    0       3\n",
       "4    1       3"
      ]
     },
     "execution_count": 9,
     "metadata": {},
     "output_type": "execute_result"
    }
   ],
   "source": [
    "X_test = test_data[['Sex','Pclass']]\n",
    "X_test['Sex'].replace(to_replace=['male','female'], value=[0,1],inplace=True)\n",
    "X_test.head()"
   ]
  },
  {
   "cell_type": "markdown",
   "id": "48d4ee5d",
   "metadata": {
    "papermill": {
     "duration": 0.040643,
     "end_time": "2022-04-13T14:55:33.375602",
     "exception": false,
     "start_time": "2022-04-13T14:55:33.334959",
     "status": "completed"
    },
    "tags": []
   },
   "source": [
    "As a final data treatment phase, we'll normalize the data"
   ]
  },
  {
   "cell_type": "code",
   "execution_count": 10,
   "id": "14c5e7fc",
   "metadata": {
    "execution": {
     "iopub.execute_input": "2022-04-13T14:55:33.466893Z",
     "iopub.status.busy": "2022-04-13T14:55:33.466072Z",
     "iopub.status.idle": "2022-04-13T14:55:33.473065Z",
     "shell.execute_reply": "2022-04-13T14:55:33.473650Z",
     "shell.execute_reply.started": "2022-04-13T14:53:42.263013Z"
    },
    "papermill": {
     "duration": 0.05708,
     "end_time": "2022-04-13T14:55:33.473836",
     "exception": false,
     "start_time": "2022-04-13T14:55:33.416756",
     "status": "completed"
    },
    "tags": []
   },
   "outputs": [
    {
     "data": {
      "text/plain": [
       "array([[-0.73769513,  0.82737724],\n",
       "       [ 1.35557354, -1.56610693],\n",
       "       [ 1.35557354,  0.82737724],\n",
       "       [ 1.35557354, -1.56610693],\n",
       "       [-0.73769513,  0.82737724]])"
      ]
     },
     "execution_count": 10,
     "metadata": {},
     "output_type": "execute_result"
    }
   ],
   "source": [
    "X_train = preprocessing.StandardScaler().fit(X_train).transform(X_train)\n",
    "X_train[0:5]"
   ]
  },
  {
   "cell_type": "code",
   "execution_count": 11,
   "id": "981dfe7f",
   "metadata": {
    "execution": {
     "iopub.execute_input": "2022-04-13T14:55:33.566817Z",
     "iopub.status.busy": "2022-04-13T14:55:33.565980Z",
     "iopub.status.idle": "2022-04-13T14:55:33.569047Z",
     "shell.execute_reply": "2022-04-13T14:55:33.569580Z",
     "shell.execute_reply.started": "2022-04-13T14:53:42.277320Z"
    },
    "papermill": {
     "duration": 0.051628,
     "end_time": "2022-04-13T14:55:33.569765",
     "exception": false,
     "start_time": "2022-04-13T14:55:33.518137",
     "status": "completed"
    },
    "tags": []
   },
   "outputs": [
    {
     "data": {
      "text/plain": [
       "array([0, 1, 1, 1, 0])"
      ]
     },
     "execution_count": 11,
     "metadata": {},
     "output_type": "execute_result"
    }
   ],
   "source": [
    "y_train = train_data['Survived'].values\n",
    "y_train[0:5]"
   ]
  },
  {
   "cell_type": "markdown",
   "id": "1a5683a7",
   "metadata": {
    "papermill": {
     "duration": 0.0441,
     "end_time": "2022-04-13T14:55:33.656076",
     "exception": false,
     "start_time": "2022-04-13T14:55:33.611976",
     "status": "completed"
    },
    "tags": []
   },
   "source": [
    "# It's Machine Learning time\n"
   ]
  },
  {
   "cell_type": "markdown",
   "id": "e1d68a9d",
   "metadata": {
    "papermill": {
     "duration": 0.044049,
     "end_time": "2022-04-13T14:55:33.744017",
     "exception": false,
     "start_time": "2022-04-13T14:55:33.699968",
     "status": "completed"
    },
    "tags": []
   },
   "source": [
    "## Logistic Regression"
   ]
  },
  {
   "cell_type": "code",
   "execution_count": 12,
   "id": "bfff61d7",
   "metadata": {
    "execution": {
     "iopub.execute_input": "2022-04-13T14:55:33.837946Z",
     "iopub.status.busy": "2022-04-13T14:55:33.837189Z",
     "iopub.status.idle": "2022-04-13T14:55:34.114924Z",
     "shell.execute_reply": "2022-04-13T14:55:34.115505Z",
     "shell.execute_reply.started": "2022-04-13T14:53:42.289227Z"
    },
    "papermill": {
     "duration": 0.329779,
     "end_time": "2022-04-13T14:55:34.115696",
     "exception": false,
     "start_time": "2022-04-13T14:55:33.785917",
     "status": "completed"
    },
    "tags": []
   },
   "outputs": [
    {
     "name": "stdout",
     "output_type": "stream",
     "text": [
      "tuned hpyerparameters :(best parameters)  {'C': 0.001, 'penalty': 'l2'}\n",
      "accuracy : 0.786729088639201\n"
     ]
    }
   ],
   "source": [
    "grid={\"C\":np.logspace(-3,3,7), \"penalty\":[\"l1\",\"l2\"]}# l1 lasso l2 ridge\n",
    "logreg_cv=GridSearchCV(LogisticRegression(solver='liblinear'),grid, cv=10) #solver set to liblinear so it can handle l1 penalty\n",
    "logreg_cv.fit(X_train, y_train)\n",
    "print(\"tuned hpyerparameters :(best parameters) \",logreg_cv.best_params_)\n",
    "print(\"accuracy :\",logreg_cv.best_score_)"
   ]
  },
  {
   "cell_type": "code",
   "execution_count": 13,
   "id": "ef57b148",
   "metadata": {
    "execution": {
     "iopub.execute_input": "2022-04-13T14:55:34.211258Z",
     "iopub.status.busy": "2022-04-13T14:55:34.209153Z",
     "iopub.status.idle": "2022-04-13T14:55:34.219766Z",
     "shell.execute_reply": "2022-04-13T14:55:34.219132Z",
     "shell.execute_reply.started": "2022-04-13T14:53:42.576124Z"
    },
    "papermill": {
     "duration": 0.05821,
     "end_time": "2022-04-13T14:55:34.219911",
     "exception": false,
     "start_time": "2022-04-13T14:55:34.161701",
     "status": "completed"
    },
    "tags": []
   },
   "outputs": [
    {
     "data": {
      "text/plain": [
       "LogisticRegression(C=0.001, solver='liblinear')"
      ]
     },
     "execution_count": 13,
     "metadata": {},
     "output_type": "execute_result"
    }
   ],
   "source": [
    "logreg=LogisticRegression(C=0.001, penalty='l2', solver='liblinear')\n",
    "logreg.fit(X_train, y_train)"
   ]
  },
  {
   "cell_type": "code",
   "execution_count": 14,
   "id": "d6a9a9cf",
   "metadata": {
    "execution": {
     "iopub.execute_input": "2022-04-13T14:55:34.315879Z",
     "iopub.status.busy": "2022-04-13T14:55:34.314844Z",
     "iopub.status.idle": "2022-04-13T14:55:34.578277Z",
     "shell.execute_reply": "2022-04-13T14:55:34.577582Z",
     "shell.execute_reply.started": "2022-04-13T14:53:42.588285Z"
    },
    "papermill": {
     "duration": 0.312035,
     "end_time": "2022-04-13T14:55:34.578445",
     "exception": false,
     "start_time": "2022-04-13T14:55:34.266410",
     "status": "completed"
    },
    "tags": []
   },
   "outputs": [
    {
     "name": "stderr",
     "output_type": "stream",
     "text": [
      "/opt/conda/lib/python3.7/site-packages/sklearn/utils/deprecation.py:87: FutureWarning: Function plot_confusion_matrix is deprecated; Function `plot_confusion_matrix` is deprecated in 1.0 and will be removed in 1.2. Use one of the class methods: ConfusionMatrixDisplay.from_predictions or ConfusionMatrixDisplay.from_estimator.\n",
      "  warnings.warn(msg, category=FutureWarning)\n"
     ]
    },
    {
     "data": {
      "text/plain": [
       "<sklearn.metrics._plot.confusion_matrix.ConfusionMatrixDisplay at 0x7fb1e107d250>"
      ]
     },
     "execution_count": 14,
     "metadata": {},
     "output_type": "execute_result"
    },
    {
     "data": {
      "image/png": "[encoded data removed]",
      "text/plain": [
       "<Figure size 432x288 with 2 Axes>"
      ]
     },
     "metadata": {
      "needs_background": "light"
     },
     "output_type": "display_data"
    }
   ],
   "source": [
    "plot_confusion_matrix(logreg, X_train, y_train,values_format='d')"
   ]
  },
  {
   "cell_type": "markdown",
   "id": "ceb07179",
   "metadata": {
    "papermill": {
     "duration": 0.047397,
     "end_time": "2022-04-13T14:55:34.673533",
     "exception": false,
     "start_time": "2022-04-13T14:55:34.626136",
     "status": "completed"
    },
    "tags": []
   },
   "source": [
    "## Decision Tree"
   ]
  },
  {
   "cell_type": "code",
   "execution_count": 15,
   "id": "a13cb4e7",
   "metadata": {
    "execution": {
     "iopub.execute_input": "2022-04-13T14:55:34.770573Z",
     "iopub.status.busy": "2022-04-13T14:55:34.769464Z",
     "iopub.status.idle": "2022-04-13T14:55:35.304601Z",
     "shell.execute_reply": "2022-04-13T14:55:35.304043Z",
     "shell.execute_reply.started": "2022-04-13T14:53:42.838766Z"
    },
    "papermill": {
     "duration": 0.587125,
     "end_time": "2022-04-13T14:55:35.304763",
     "exception": false,
     "start_time": "2022-04-13T14:55:34.717638",
     "status": "completed"
    },
    "tags": []
   },
   "outputs": [
    {
     "name": "stdout",
     "output_type": "stream",
     "text": [
      "tuned hpyerparameters :(best parameters)  {'criterion': 'gini', 'max_depth': 4}\n",
      "accuracy : 0.7733208489388266\n"
     ]
    }
   ],
   "source": [
    "tree_param = {'criterion':['gini','entropy'],'max_depth':[4,5,6,7,8,9,10,11,12,15,20,30,40,50,70,90,120,150]}\n",
    "dtree_cv=GridSearchCV(DecisionTreeClassifier(), tree_param, cv=10)\n",
    "dtree_cv.fit(X_train, y_train)\n",
    "print(\"tuned hpyerparameters :(best parameters) \",dtree_cv.best_params_)\n",
    "print(\"accuracy :\",dtree_cv.best_score_)"
   ]
  },
  {
   "cell_type": "code",
   "execution_count": 16,
   "id": "954fd26f",
   "metadata": {
    "execution": {
     "iopub.execute_input": "2022-04-13T14:55:35.400789Z",
     "iopub.status.busy": "2022-04-13T14:55:35.400074Z",
     "iopub.status.idle": "2022-04-13T14:55:35.405114Z",
     "shell.execute_reply": "2022-04-13T14:55:35.404560Z",
     "shell.execute_reply.started": "2022-04-13T14:53:43.346464Z"
    },
    "papermill": {
     "duration": 0.054599,
     "end_time": "2022-04-13T14:55:35.405265",
     "exception": false,
     "start_time": "2022-04-13T14:55:35.350666",
     "status": "completed"
    },
    "tags": []
   },
   "outputs": [
    {
     "data": {
      "text/plain": [
       "DecisionTreeClassifier(max_depth=6)"
      ]
     },
     "execution_count": 16,
     "metadata": {},
     "output_type": "execute_result"
    }
   ],
   "source": [
    "dtree=DecisionTreeClassifier(criterion='gini', max_depth=6)\n",
    "dtree.fit(X_train, y_train)"
   ]
  },
  {
   "cell_type": "code",
   "execution_count": 17,
   "id": "716fa304",
   "metadata": {
    "execution": {
     "iopub.execute_input": "2022-04-13T14:55:35.502194Z",
     "iopub.status.busy": "2022-04-13T14:55:35.501493Z",
     "iopub.status.idle": "2022-04-13T14:55:36.207189Z",
     "shell.execute_reply": "2022-04-13T14:55:36.207720Z",
     "shell.execute_reply.started": "2022-04-13T14:53:43.357423Z"
    },
    "papermill": {
     "duration": 0.755466,
     "end_time": "2022-04-13T14:55:36.207891",
     "exception": false,
     "start_time": "2022-04-13T14:55:35.452425",
     "status": "completed"
    },
    "tags": []
   },
   "outputs": [
    {
     "data": {
      "image/png": "[encoded data removed]",
      "text/plain": [
       "<Figure size 1728x864 with 1 Axes>"
      ]
     },
     "metadata": {
      "needs_background": "light"
     },
     "output_type": "display_data"
    }
   ],
   "source": [
    "plt.figure(figsize=(24,12))\n",
    "tree.plot_tree(dtree, fontsize=12)\n",
    "plt.show()"
   ]
  },
  {
   "cell_type": "code",
   "execution_count": 18,
   "id": "27551a01",
   "metadata": {
    "execution": {
     "iopub.execute_input": "2022-04-13T14:55:36.313556Z",
     "iopub.status.busy": "2022-04-13T14:55:36.312784Z",
     "iopub.status.idle": "2022-04-13T14:55:36.558148Z",
     "shell.execute_reply": "2022-04-13T14:55:36.558670Z",
     "shell.execute_reply.started": "2022-04-13T14:53:44.082802Z"
    },
    "papermill": {
     "duration": 0.301286,
     "end_time": "2022-04-13T14:55:36.558868",
     "exception": false,
     "start_time": "2022-04-13T14:55:36.257582",
     "status": "completed"
    },
    "tags": []
   },
   "outputs": [
    {
     "name": "stderr",
     "output_type": "stream",
     "text": [
      "/opt/conda/lib/python3.7/site-packages/sklearn/utils/deprecation.py:87: FutureWarning: Function plot_confusion_matrix is deprecated; Function `plot_confusion_matrix` is deprecated in 1.0 and will be removed in 1.2. Use one of the class methods: ConfusionMatrixDisplay.from_predictions or ConfusionMatrixDisplay.from_estimator.\n",
      "  warnings.warn(msg, category=FutureWarning)\n"
     ]
    },
    {
     "data": {
      "text/plain": [
       "<sklearn.metrics._plot.confusion_matrix.ConfusionMatrixDisplay at 0x7fb1e1167fd0>"
      ]
     },
     "execution_count": 18,
     "metadata": {},
     "output_type": "execute_result"
    },
    {
     "data": {
      "image/png": "[encoded data removed]",
      "text/plain": [
       "<Figure size 432x288 with 2 Axes>"
      ]
     },
     "metadata": {
      "needs_background": "light"
     },
     "output_type": "display_data"
    }
   ],
   "source": [
    "plot_confusion_matrix(dtree,X_train, y_train,values_format='d')"
   ]
  },
  {
   "cell_type": "markdown",
   "id": "2b5f1796",
   "metadata": {
    "papermill": {
     "duration": 0.048857,
     "end_time": "2022-04-13T14:55:36.658430",
     "exception": false,
     "start_time": "2022-04-13T14:55:36.609573",
     "status": "completed"
    },
    "tags": []
   },
   "source": [
    "## KNN"
   ]
  },
  {
   "cell_type": "code",
   "execution_count": 19,
   "id": "bc070d23",
   "metadata": {
    "execution": {
     "iopub.execute_input": "2022-04-13T14:55:36.767122Z",
     "iopub.status.busy": "2022-04-13T14:55:36.765943Z",
     "iopub.status.idle": "2022-04-13T14:55:38.574910Z",
     "shell.execute_reply": "2022-04-13T14:55:38.575632Z",
     "shell.execute_reply.started": "2022-04-13T14:53:44.315654Z"
    },
    "papermill": {
     "duration": 1.865744,
     "end_time": "2022-04-13T14:55:38.575886",
     "exception": false,
     "start_time": "2022-04-13T14:55:36.710142",
     "status": "completed"
    },
    "tags": []
   },
   "outputs": [
    {
     "name": "stdout",
     "output_type": "stream",
     "text": [
      "Fitting 10 folds for each of 30 candidates, totalling 300 fits\n",
      "tuned hpyerparameters :(best parameters)  {'n_neighbors': 4}\n",
      "accuracy : 0.790099875156055\n"
     ]
    }
   ],
   "source": [
    "k_range=list(range(1,31))\n",
    "param_grid=dict(n_neighbors=k_range)\n",
    "knn_cv=GridSearchCV(KNeighborsClassifier(), param_grid, cv=10, scoring='accuracy', return_train_score=False,verbose=1)\n",
    "knn_cv.fit(X_train, y_train)\n",
    "print(\"tuned hpyerparameters :(best parameters) \",knn_cv.best_params_)\n",
    "print(\"accuracy :\",knn_cv.best_score_)"
   ]
  },
  {
   "cell_type": "code",
   "execution_count": 20,
   "id": "a3b1cd3f",
   "metadata": {
    "execution": {
     "iopub.execute_input": "2022-04-13T14:55:38.687667Z",
     "iopub.status.busy": "2022-04-13T14:55:38.685102Z",
     "iopub.status.idle": "2022-04-13T14:55:38.694360Z",
     "shell.execute_reply": "2022-04-13T14:55:38.693711Z",
     "shell.execute_reply.started": "2022-04-13T14:53:46.054238Z"
    },
    "papermill": {
     "duration": 0.066269,
     "end_time": "2022-04-13T14:55:38.694515",
     "exception": false,
     "start_time": "2022-04-13T14:55:38.628246",
     "status": "completed"
    },
    "tags": []
   },
   "outputs": [
    {
     "data": {
      "text/plain": [
       "KNeighborsClassifier(n_neighbors=4)"
      ]
     },
     "execution_count": 20,
     "metadata": {},
     "output_type": "execute_result"
    }
   ],
   "source": [
    "knn=KNeighborsClassifier(n_neighbors=4)\n",
    "knn.fit(X_train, y_train)"
   ]
  },
  {
   "cell_type": "code",
   "execution_count": 21,
   "id": "f5cb108c",
   "metadata": {
    "execution": {
     "iopub.execute_input": "2022-04-13T14:55:38.809877Z",
     "iopub.status.busy": "2022-04-13T14:55:38.809128Z",
     "iopub.status.idle": "2022-04-13T14:55:39.111105Z",
     "shell.execute_reply": "2022-04-13T14:55:39.110430Z",
     "shell.execute_reply.started": "2022-04-13T14:53:46.063230Z"
    },
    "papermill": {
     "duration": 0.364407,
     "end_time": "2022-04-13T14:55:39.111258",
     "exception": false,
     "start_time": "2022-04-13T14:55:38.746851",
     "status": "completed"
    },
    "tags": []
   },
   "outputs": [
    {
     "name": "stderr",
     "output_type": "stream",
     "text": [
      "/opt/conda/lib/python3.7/site-packages/sklearn/utils/deprecation.py:87: FutureWarning: Function plot_confusion_matrix is deprecated; Function `plot_confusion_matrix` is deprecated in 1.0 and will be removed in 1.2. Use one of the class methods: ConfusionMatrixDisplay.from_predictions or ConfusionMatrixDisplay.from_estimator.\n",
      "  warnings.warn(msg, category=FutureWarning)\n"
     ]
    },
    {
     "data": {
      "text/plain": [
       "<sklearn.metrics._plot.confusion_matrix.ConfusionMatrixDisplay at 0x7fb1e08fac10>"
      ]
     },
     "execution_count": 21,
     "metadata": {},
     "output_type": "execute_result"
    },
    {
     "data": {
      "image/png": "[encoded data removed]",
      "text/plain": [
       "<Figure size 432x288 with 2 Axes>"
      ]
     },
     "metadata": {
      "needs_background": "light"
     },
     "output_type": "display_data"
    }
   ],
   "source": [
    "plot_confusion_matrix(knn,X_train, y_train,values_format='d')"
   ]
  },
  {
   "cell_type": "markdown",
   "id": "89cb5bdf",
   "metadata": {
    "papermill": {
     "duration": 0.055296,
     "end_time": "2022-04-13T14:55:39.220510",
     "exception": false,
     "start_time": "2022-04-13T14:55:39.165214",
     "status": "completed"
    },
    "tags": []
   },
   "source": [
    "## SVM"
   ]
  },
  {
   "cell_type": "code",
   "execution_count": 22,
   "id": "d469c1fb",
   "metadata": {
    "execution": {
     "iopub.execute_input": "2022-04-13T14:55:39.342657Z",
     "iopub.status.busy": "2022-04-13T14:55:39.341572Z",
     "iopub.status.idle": "2022-04-13T14:55:44.475712Z",
     "shell.execute_reply": "2022-04-13T14:55:44.476255Z",
     "shell.execute_reply.started": "2022-04-13T14:53:46.344542Z"
    },
    "papermill": {
     "duration": 5.200475,
     "end_time": "2022-04-13T14:55:44.476457",
     "exception": false,
     "start_time": "2022-04-13T14:55:39.275982",
     "status": "completed"
    },
    "tags": []
   },
   "outputs": [
    {
     "name": "stdout",
     "output_type": "stream",
     "text": [
      "tuned hpyerparameters :(best parameters)  {'C': 0.1, 'gamma': 0.1, 'kernel': 'rbf'}\n",
      "accuracy : 0.786729088639201\n"
     ]
    }
   ],
   "source": [
    "svm_param = {'C': [0.1, 1, 10, 100, 1000],\n",
    "              'gamma': [1, 0.1, 0.01, 0.001, 0.0001],\n",
    "              'kernel': ['rbf']}\n",
    "svm_cv = GridSearchCV(SVC(), svm_param, refit = True, cv=10)\n",
    "svm_cv=svm_cv.fit(X_train, y_train)\n",
    "print(\"tuned hpyerparameters :(best parameters) \",svm_cv.best_params_)\n",
    "print(\"accuracy :\",svm_cv.best_score_)"
   ]
  },
  {
   "cell_type": "code",
   "execution_count": 23,
   "id": "4c965d5e",
   "metadata": {
    "execution": {
     "iopub.execute_input": "2022-04-13T14:55:44.601804Z",
     "iopub.status.busy": "2022-04-13T14:55:44.601071Z",
     "iopub.status.idle": "2022-04-13T14:55:44.908799Z",
     "shell.execute_reply": "2022-04-13T14:55:44.908229Z",
     "shell.execute_reply.started": "2022-04-13T14:53:51.192274Z"
    },
    "papermill": {
     "duration": 0.375884,
     "end_time": "2022-04-13T14:55:44.908961",
     "exception": false,
     "start_time": "2022-04-13T14:55:44.533077",
     "status": "completed"
    },
    "tags": []
   },
   "outputs": [
    {
     "name": "stderr",
     "output_type": "stream",
     "text": [
      "/opt/conda/lib/python3.7/site-packages/sklearn/utils/deprecation.py:87: FutureWarning: Function plot_confusion_matrix is deprecated; Function `plot_confusion_matrix` is deprecated in 1.0 and will be removed in 1.2. Use one of the class methods: ConfusionMatrixDisplay.from_predictions or ConfusionMatrixDisplay.from_estimator.\n",
      "  warnings.warn(msg, category=FutureWarning)\n"
     ]
    },
    {
     "data": {
      "text/plain": [
       "<sklearn.metrics._plot.confusion_matrix.ConfusionMatrixDisplay at 0x7fb1e0e1f750>"
      ]
     },
     "execution_count": 23,
     "metadata": {},
     "output_type": "execute_result"
    },
    {
     "data": {
      "image/png": "[encoded data removed]",
      "text/plain": [
       "<Figure size 432x288 with 2 Axes>"
      ]
     },
     "metadata": {
      "needs_background": "light"
     },
     "output_type": "display_data"
    }
   ],
   "source": [
    "svm=SVC(C=0.1, gamma=0.1, kernel='rbf')\n",
    "svm.fit(X_train, y_train)\n",
    "plot_confusion_matrix(svm,X_train, y_train,values_format='d' )"
   ]
  },
  {
   "cell_type": "markdown",
   "id": "763b9151",
   "metadata": {
    "papermill": {
     "duration": 0.060454,
     "end_time": "2022-04-13T14:55:45.025926",
     "exception": false,
     "start_time": "2022-04-13T14:55:44.965472",
     "status": "completed"
    },
    "tags": []
   },
   "source": [
    "At this point, any of the algorithms have an accuracy of around 78%. I will go for the KNN algorithm due to personal bias."
   ]
  },
  {
   "cell_type": "code",
   "execution_count": 24,
   "id": "b0557b0c",
   "metadata": {
    "execution": {
     "iopub.execute_input": "2022-04-13T14:55:45.147214Z",
     "iopub.status.busy": "2022-04-13T14:55:45.145508Z",
     "iopub.status.idle": "2022-04-13T14:55:45.173406Z",
     "shell.execute_reply": "2022-04-13T14:55:45.172696Z",
     "shell.execute_reply.started": "2022-04-13T14:53:51.469951Z"
    },
    "papermill": {
     "duration": 0.093421,
     "end_time": "2022-04-13T14:55:45.173556",
     "exception": false,
     "start_time": "2022-04-13T14:55:45.080135",
     "status": "completed"
    },
    "tags": []
   },
   "outputs": [],
   "source": [
    "X_test = preprocessing.StandardScaler().fit(X_test).transform(X_test)\n",
    "yhat = knn.predict(X_test)\n",
    "yhat = pd.Series(data=yhat)\n",
    "yhat = yhat.rename('Survived')\n",
    "test_data['PassengerId']\n",
    "result = pd.concat([test_data['PassengerId'], yhat], axis=1)\n",
    "result.to_csv('/kaggle/working/result.csv', index=False)"
   ]
  }
 ],
 "metadata": {
  "kernelspec": {
   "display_name": "Python 3",
   "language": "python",
   "name": "python3"
  },
  "language_info": {
   "codemirror_mode": {
    "name": "ipython",
    "version": 3
   },
   "file_extension": ".py",
   "mimetype": "text/x-python",
   "name": "python",
   "nbconvert_exporter": "python",
   "pygments_lexer": "ipython3",
   "version": "3.7.12"
  },
  "papermill": {
   "default_parameters": {},
   "duration": 26.818961,
   "end_time": "2022-04-13T14:55:46.043050",
   "environment_variables": {},
   "exception": null,
   "input_path": "__notebook__.ipynb",
   "output_path": "__notebook__.ipynb",
   "parameters": {},
   "start_time": "2022-04-13T14:55:19.224089",
   "version": "2.3.3"
  }
 },
 "nbformat": 4,
 "nbformat_minor": 5
}
